{
  "cells": [
    {
      "cell_type": "markdown",
      "source": [
        "# Citation\n",
        "Kallumadi,Surya and Grer,Felix. (2018). Drug Review Dataset (Drugs.com). UCI Machine Learning Repository. https://doi.org/10.24432/C5SK5S."
      ],
      "metadata": {
        "id": "DqAMHBN77_8a"
      },
      "id": "DqAMHBN77_8a"
    },
    {
      "cell_type": "markdown",
      "source": [
        "Additional Information\n",
        "\n",
        "The dataset provides patient reviews on specific drugs along with related conditions and a 10 star patient rating reflecting overall patient satisfaction. The data was obtained by crawling online pharmaceutical review sites. The intention was to study\n",
        "\n",
        "(1) sentiment analysis of drug experience over multiple facets, i.e. sentiments learned on specific aspects such as effectiveness and side effects,\n",
        "(2) the transferability of models among domains, i.e. conditions, and\n",
        "(3) the transferability of models among different data sources (see 'Drug Review Dataset (Druglib.com)').\n",
        "\n",
        "The data is split into a train (75%) a test (25%) partition (see publication) and stored in two .tsv (tab-separated-values) files, respectively.\n",
        "\n",
        "\n",
        "Important notes:\n",
        "\n",
        "When using this dataset, you agree that you\n",
        "1) only use the data for research purposes\n",
        "2) don't use the data for any commerical purposes\n",
        "3) don't distribute the data to anyone else\n",
        "4) cite us\n",
        "\n",
        "Attribute Information\n",
        "Additional Information\n",
        "\n",
        "1. drugName (categorical): name of drug\n",
        "2. condition (categorical): name of condition\n",
        "3. review (text): patient review\n",
        "4. rating (numerical): 10 star patient rating\n",
        "5. date (date): date of review entry\n",
        "6. usefulCount (numerical): number of users who found review useful"
      ],
      "metadata": {
        "id": "vbX6QbyX7yG2"
      },
      "id": "vbX6QbyX7yG2"
    },
    {
      "cell_type": "markdown",
      "source": [
        "# Importing Libraries"
      ],
      "metadata": {
        "id": "U7O7PmbOrFQZ"
      },
      "id": "U7O7PmbOrFQZ"
    },
    {
      "cell_type": "code",
      "execution_count": null,
      "metadata": {
        "id": "3e5fd0ca"
      },
      "outputs": [],
      "source": [
        "import os, sys\n",
        "import numpy as np\n",
        "import pandas as pd\n",
        "import matplotlib.pyplot as plt\n",
        "import seaborn as sns\n",
        "\n",
        "import warnings\n",
        "warnings.filterwarnings('ignore')\n",
        "\n",
        "import sqlite3\n",
        "import nltk\n",
        "import string\n",
        "\n",
        "from sklearn.feature_extraction.text import CountVectorizer\n",
        "from sklearn.feature_extraction.text import TfidfVectorizer\n",
        "from sklearn.feature_extraction.text import TfidfTransformer\n",
        "\n",
        "from nltk.stem.wordnet import WordNetLemmatizer\n",
        "from nltk.stem.porter import PorterStemmer\n",
        "\n",
        "from nltk.corpus import stopwords"
      ],
      "id": "3e5fd0ca"
    },
    {
      "cell_type": "markdown",
      "source": [
        "# Reading data"
      ],
      "metadata": {
        "id": "0o9RR9JJrN3r"
      },
      "id": "0o9RR9JJrN3r"
    },
    {
      "cell_type": "code",
      "execution_count": null,
      "metadata": {
        "colab": {
          "base_uri": "https://localhost:8080/",
          "height": 206
        },
        "id": "89bc0905",
        "outputId": "dee0fa6d-dacd-4d6e-8dc0-3b4ff797c55c"
      },
      "outputs": [
        {
          "output_type": "execute_result",
          "data": {
            "text/plain": [
              "                           drugName                     condition  \\\n",
              "0  206461                 Valsartan  Left Ventricular Dysfunction   \n",
              "1   95260                Guanfacine                          ADHD   \n",
              "2   92703                    Lybrel                 Birth Control   \n",
              "3  138000                Ortho Evra                 Birth Control   \n",
              "4   35696  Buprenorphine / naloxone             Opiate Dependence   \n",
              "\n",
              "                                              review  rating  \\\n",
              "0  \"It has no side effect, I take it in combinati...       9   \n",
              "1  \"My son is halfway through his fourth week of ...       8   \n",
              "2  \"I used to take another oral contraceptive, wh...       5   \n",
              "3  \"This is my first time using any form of birth...       8   \n",
              "4  \"Suboxone has completely turned my life around...       9   \n",
              "\n",
              "                date  usefulCount  \n",
              "0       May 20, 2012           27  \n",
              "1     April 27, 2010          192  \n",
              "2  December 14, 2009           17  \n",
              "3   November 3, 2015           10  \n",
              "4  November 27, 2016           37  "
            ],
            "text/html": [
              "\n",
              "  <div id=\"df-9d987fd0-4046-41c6-ac85-78bc8c56e632\">\n",
              "    <div class=\"colab-df-container\">\n",
              "      <div>\n",
              "<style scoped>\n",
              "    .dataframe tbody tr th:only-of-type {\n",
              "        vertical-align: middle;\n",
              "    }\n",
              "\n",
              "    .dataframe tbody tr th {\n",
              "        vertical-align: top;\n",
              "    }\n",
              "\n",
              "    .dataframe thead th {\n",
              "        text-align: right;\n",
              "    }\n",
              "</style>\n",
              "<table border=\"1\" class=\"dataframe\">\n",
              "  <thead>\n",
              "    <tr style=\"text-align: right;\">\n",
              "      <th></th>\n",
              "      <th></th>\n",
              "      <th>drugName</th>\n",
              "      <th>condition</th>\n",
              "      <th>review</th>\n",
              "      <th>rating</th>\n",
              "      <th>date</th>\n",
              "      <th>usefulCount</th>\n",
              "    </tr>\n",
              "  </thead>\n",
              "  <tbody>\n",
              "    <tr>\n",
              "      <th>0</th>\n",
              "      <td>206461</td>\n",
              "      <td>Valsartan</td>\n",
              "      <td>Left Ventricular Dysfunction</td>\n",
              "      <td>\"It has no side effect, I take it in combinati...</td>\n",
              "      <td>9</td>\n",
              "      <td>May 20, 2012</td>\n",
              "      <td>27</td>\n",
              "    </tr>\n",
              "    <tr>\n",
              "      <th>1</th>\n",
              "      <td>95260</td>\n",
              "      <td>Guanfacine</td>\n",
              "      <td>ADHD</td>\n",
              "      <td>\"My son is halfway through his fourth week of ...</td>\n",
              "      <td>8</td>\n",
              "      <td>April 27, 2010</td>\n",
              "      <td>192</td>\n",
              "    </tr>\n",
              "    <tr>\n",
              "      <th>2</th>\n",
              "      <td>92703</td>\n",
              "      <td>Lybrel</td>\n",
              "      <td>Birth Control</td>\n",
              "      <td>\"I used to take another oral contraceptive, wh...</td>\n",
              "      <td>5</td>\n",
              "      <td>December 14, 2009</td>\n",
              "      <td>17</td>\n",
              "    </tr>\n",
              "    <tr>\n",
              "      <th>3</th>\n",
              "      <td>138000</td>\n",
              "      <td>Ortho Evra</td>\n",
              "      <td>Birth Control</td>\n",
              "      <td>\"This is my first time using any form of birth...</td>\n",
              "      <td>8</td>\n",
              "      <td>November 3, 2015</td>\n",
              "      <td>10</td>\n",
              "    </tr>\n",
              "    <tr>\n",
              "      <th>4</th>\n",
              "      <td>35696</td>\n",
              "      <td>Buprenorphine / naloxone</td>\n",
              "      <td>Opiate Dependence</td>\n",
              "      <td>\"Suboxone has completely turned my life around...</td>\n",
              "      <td>9</td>\n",
              "      <td>November 27, 2016</td>\n",
              "      <td>37</td>\n",
              "    </tr>\n",
              "  </tbody>\n",
              "</table>\n",
              "</div>\n",
              "      <button class=\"colab-df-convert\" onclick=\"convertToInteractive('df-9d987fd0-4046-41c6-ac85-78bc8c56e632')\"\n",
              "              title=\"Convert this dataframe to an interactive table.\"\n",
              "              style=\"display:none;\">\n",
              "        \n",
              "  <svg xmlns=\"http://www.w3.org/2000/svg\" height=\"24px\"viewBox=\"0 0 24 24\"\n",
              "       width=\"24px\">\n",
              "    <path d=\"M0 0h24v24H0V0z\" fill=\"none\"/>\n",
              "    <path d=\"M18.56 5.44l.94 2.06.94-2.06 2.06-.94-2.06-.94-.94-2.06-.94 2.06-2.06.94zm-11 1L8.5 8.5l.94-2.06 2.06-.94-2.06-.94L8.5 2.5l-.94 2.06-2.06.94zm10 10l.94 2.06.94-2.06 2.06-.94-2.06-.94-.94-2.06-.94 2.06-2.06.94z\"/><path d=\"M17.41 7.96l-1.37-1.37c-.4-.4-.92-.59-1.43-.59-.52 0-1.04.2-1.43.59L10.3 9.45l-7.72 7.72c-.78.78-.78 2.05 0 2.83L4 21.41c.39.39.9.59 1.41.59.51 0 1.02-.2 1.41-.59l7.78-7.78 2.81-2.81c.8-.78.8-2.07 0-2.86zM5.41 20L4 18.59l7.72-7.72 1.47 1.35L5.41 20z\"/>\n",
              "  </svg>\n",
              "      </button>\n",
              "      \n",
              "  <style>\n",
              "    .colab-df-container {\n",
              "      display:flex;\n",
              "      flex-wrap:wrap;\n",
              "      gap: 12px;\n",
              "    }\n",
              "\n",
              "    .colab-df-convert {\n",
              "      background-color: #E8F0FE;\n",
              "      border: none;\n",
              "      border-radius: 50%;\n",
              "      cursor: pointer;\n",
              "      display: none;\n",
              "      fill: #1967D2;\n",
              "      height: 32px;\n",
              "      padding: 0 0 0 0;\n",
              "      width: 32px;\n",
              "    }\n",
              "\n",
              "    .colab-df-convert:hover {\n",
              "      background-color: #E2EBFA;\n",
              "      box-shadow: 0px 1px 2px rgba(60, 64, 67, 0.3), 0px 1px 3px 1px rgba(60, 64, 67, 0.15);\n",
              "      fill: #174EA6;\n",
              "    }\n",
              "\n",
              "    [theme=dark] .colab-df-convert {\n",
              "      background-color: #3B4455;\n",
              "      fill: #D2E3FC;\n",
              "    }\n",
              "\n",
              "    [theme=dark] .colab-df-convert:hover {\n",
              "      background-color: #434B5C;\n",
              "      box-shadow: 0px 1px 3px 1px rgba(0, 0, 0, 0.15);\n",
              "      filter: drop-shadow(0px 1px 2px rgba(0, 0, 0, 0.3));\n",
              "      fill: #FFFFFF;\n",
              "    }\n",
              "  </style>\n",
              "\n",
              "      <script>\n",
              "        const buttonEl =\n",
              "          document.querySelector('#df-9d987fd0-4046-41c6-ac85-78bc8c56e632 button.colab-df-convert');\n",
              "        buttonEl.style.display =\n",
              "          google.colab.kernel.accessAllowed ? 'block' : 'none';\n",
              "\n",
              "        async function convertToInteractive(key) {\n",
              "          const element = document.querySelector('#df-9d987fd0-4046-41c6-ac85-78bc8c56e632');\n",
              "          const dataTable =\n",
              "            await google.colab.kernel.invokeFunction('convertToInteractive',\n",
              "                                                     [key], {});\n",
              "          if (!dataTable) return;\n",
              "\n",
              "          const docLinkHtml = 'Like what you see? Visit the ' +\n",
              "            '<a target=\"_blank\" href=https://colab.research.google.com/notebooks/data_table.ipynb>data table notebook</a>'\n",
              "            + ' to learn more about interactive tables.';\n",
              "          element.innerHTML = '';\n",
              "          dataTable['output_type'] = 'display_data';\n",
              "          await google.colab.output.renderOutput(dataTable, element);\n",
              "          const docLink = document.createElement('div');\n",
              "          docLink.innerHTML = docLinkHtml;\n",
              "          element.appendChild(docLink);\n",
              "        }\n",
              "      </script>\n",
              "    </div>\n",
              "  </div>\n",
              "  "
            ]
          },
          "metadata": {},
          "execution_count": 115
        }
      ],
      "source": [
        "train = pd.read_csv(r\"/content/output.csv\")\n",
        "train.head()"
      ],
      "id": "89bc0905"
    },
    {
      "cell_type": "code",
      "execution_count": null,
      "metadata": {
        "colab": {
          "base_uri": "https://localhost:8080/"
        },
        "id": "eda0d767",
        "outputId": "4d1ede3f-47fb-4eb4-f3e8-eab2c035e257"
      },
      "outputs": [
        {
          "output_type": "execute_result",
          "data": {
            "text/plain": [
              "(161297, 7)"
            ]
          },
          "metadata": {},
          "execution_count": 116
        }
      ],
      "source": [
        "train.shape"
      ],
      "id": "eda0d767"
    },
    {
      "cell_type": "markdown",
      "source": [
        "# Checking Null Values"
      ],
      "metadata": {
        "id": "mg1yvNhKrT9V"
      },
      "id": "mg1yvNhKrT9V"
    },
    {
      "cell_type": "code",
      "execution_count": null,
      "metadata": {
        "colab": {
          "base_uri": "https://localhost:8080/"
        },
        "id": "965bd49d",
        "outputId": "355eeae8-9dc2-4731-e3ab-b1086d2ec6d6"
      },
      "outputs": [
        {
          "output_type": "execute_result",
          "data": {
            "text/plain": [
              "                 0\n",
              "drugName         0\n",
              "condition      899\n",
              "review           0\n",
              "rating           0\n",
              "date             0\n",
              "usefulCount      0\n",
              "dtype: int64"
            ]
          },
          "metadata": {},
          "execution_count": 117
        }
      ],
      "source": [
        "train.isnull().sum()"
      ],
      "id": "965bd49d"
    },
    {
      "cell_type": "code",
      "execution_count": null,
      "metadata": {
        "colab": {
          "base_uri": "https://localhost:8080/"
        },
        "id": "0a1eb923",
        "outputId": "0bfe524f-3ff6-4ff2-a025-1fb4907314d2"
      },
      "outputs": [
        {
          "output_type": "execute_result",
          "data": {
            "text/plain": [
              "10    50989\n",
              "9     27531\n",
              "1     21619\n",
              "8     18890\n",
              "7      9456\n",
              "5      8013\n",
              "2      6931\n",
              "3      6513\n",
              "6      6343\n",
              "4      5012\n",
              "Name: rating, dtype: int64"
            ]
          },
          "metadata": {},
          "execution_count": 118
        }
      ],
      "source": [
        "train.rating.value_counts()"
      ],
      "id": "0a1eb923"
    },
    {
      "cell_type": "markdown",
      "source": [
        "# Mapping rating into positive and negative as per condition"
      ],
      "metadata": {
        "id": "m2fBTD0lrb79"
      },
      "id": "m2fBTD0lrb79"
    },
    {
      "cell_type": "code",
      "execution_count": null,
      "metadata": {
        "id": "f9173477"
      },
      "outputs": [],
      "source": [
        "def partition(x):\n",
        "    if x >=7:\n",
        "        return 1\n",
        "    return 0"
      ],
      "id": "f9173477"
    },
    {
      "cell_type": "code",
      "execution_count": null,
      "metadata": {
        "colab": {
          "base_uri": "https://localhost:8080/"
        },
        "id": "9b31c37d",
        "outputId": "5ee6ed46-afbc-460f-e804-64041efb75df"
      },
      "outputs": [
        {
          "output_type": "stream",
          "name": "stdout",
          "text": [
            "Number of data points in our data (161297, 7)\n",
            "******************************************************************************************************************************************************\n",
            "1    106866\n",
            "0     54431\n",
            "Name: rating, dtype: int64\n",
            "\n",
            "                           drugName                     condition  \\\n",
            "0  206461                 Valsartan  Left Ventricular Dysfunction   \n",
            "1   95260                Guanfacine                          ADHD   \n",
            "2   92703                    Lybrel                 Birth Control   \n",
            "3  138000                Ortho Evra                 Birth Control   \n",
            "4   35696  Buprenorphine / naloxone             Opiate Dependence   \n",
            "\n",
            "                                              review  rating  \\\n",
            "0  \"It has no side effect, I take it in combinati...       1   \n",
            "1  \"My son is halfway through his fourth week of ...       1   \n",
            "2  \"I used to take another oral contraceptive, wh...       0   \n",
            "3  \"This is my first time using any form of birth...       1   \n",
            "4  \"Suboxone has completely turned my life around...       1   \n",
            "\n",
            "                date  usefulCount  \n",
            "0       May 20, 2012           27  \n",
            "1     April 27, 2010          192  \n",
            "2  December 14, 2009           17  \n",
            "3   November 3, 2015           10  \n",
            "4  November 27, 2016           37  \n"
          ]
        }
      ],
      "source": [
        "actual_rating = train['rating']\n",
        "positiveNegative = actual_rating.map(partition)\n",
        "train['rating'] = positiveNegative\n",
        "print(\"Number of data points in our data\", train.shape)\n",
        "print(\"***************\"*10)\n",
        "print(train['rating'].value_counts())\n",
        "print()\n",
        "print(train.head())"
      ],
      "id": "9b31c37d"
    },
    {
      "cell_type": "code",
      "source": [
        "# since data is imbalance, hence, splitting ham and spam seperately to make balance data\n",
        "positive = train[train['rating']== 1]\n",
        "negative = train[train['rating']== 0]"
      ],
      "metadata": {
        "id": "WaGYt6sDilL2"
      },
      "id": "WaGYt6sDilL2",
      "execution_count": null,
      "outputs": []
    },
    {
      "cell_type": "code",
      "source": [
        "negative = negative.sample(positive.shape[0], replace=True)"
      ],
      "metadata": {
        "id": "PJLkqpici1QY"
      },
      "id": "PJLkqpici1QY",
      "execution_count": null,
      "outputs": []
    },
    {
      "cell_type": "code",
      "source": [
        "print(positive.shape, negative.shape)"
      ],
      "metadata": {
        "colab": {
          "base_uri": "https://localhost:8080/"
        },
        "id": "Df4pbhDIjHCQ",
        "outputId": "f043838c-3ca4-407c-d1db-ba1005890416"
      },
      "id": "Df4pbhDIjHCQ",
      "execution_count": null,
      "outputs": [
        {
          "output_type": "stream",
          "name": "stdout",
          "text": [
            "(106866, 7) (106866, 7)\n"
          ]
        }
      ]
    },
    {
      "cell_type": "code",
      "source": [
        "# data is balanced add up to original dataset\n",
        "train = positive.append(negative, ignore_index=True)"
      ],
      "metadata": {
        "id": "gV6qlumJjHG5"
      },
      "id": "gV6qlumJjHG5",
      "execution_count": null,
      "outputs": []
    },
    {
      "cell_type": "code",
      "source": [
        "train.shape"
      ],
      "metadata": {
        "colab": {
          "base_uri": "https://localhost:8080/"
        },
        "id": "W2nd0IbdjWlM",
        "outputId": "65e5a4b7-edca-4d55-eec7-c83299c3dcca"
      },
      "id": "W2nd0IbdjWlM",
      "execution_count": null,
      "outputs": [
        {
          "output_type": "execute_result",
          "data": {
            "text/plain": [
              "(213732, 7)"
            ]
          },
          "metadata": {},
          "execution_count": 125
        }
      ]
    },
    {
      "cell_type": "code",
      "execution_count": null,
      "metadata": {
        "colab": {
          "base_uri": "https://localhost:8080/"
        },
        "id": "ba2e7b37",
        "outputId": "4ec7f7ed-4968-4c6d-cac7-1cd2ede94af8"
      },
      "outputs": [
        {
          "output_type": "execute_result",
          "data": {
            "text/plain": [
              "0         1\n",
              "1         1\n",
              "2         1\n",
              "3         1\n",
              "4         1\n",
              "         ..\n",
              "213727    0\n",
              "213728    0\n",
              "213729    0\n",
              "213730    0\n",
              "213731    0\n",
              "Name: rating, Length: 213732, dtype: int64"
            ]
          },
          "metadata": {},
          "execution_count": 126
        }
      ],
      "source": [
        "train.rating"
      ],
      "id": "ba2e7b37"
    },
    {
      "cell_type": "code",
      "execution_count": null,
      "metadata": {
        "id": "3b99b1df"
      },
      "outputs": [],
      "source": [
        "# Sorting the data into ascending order by drugName\n",
        "\n",
        "sorted_data = train.sort_values('drugName', axis=0, ascending=True, inplace=False,\n",
        "                                    kind='quicksort', na_position='last' )"
      ],
      "id": "3b99b1df"
    },
    {
      "cell_type": "code",
      "execution_count": null,
      "metadata": {
        "colab": {
          "base_uri": "https://localhost:8080/"
        },
        "id": "95a39cc8",
        "outputId": "f827a2d1-95ee-4e12-b438-ccc09af0eff6"
      },
      "outputs": [
        {
          "output_type": "execute_result",
          "data": {
            "text/plain": [
              "Etonogestrel                                     5177\n",
              "Levonorgestrel                                   4728\n",
              "Ethinyl estradiol / norethindrone                4221\n",
              "Nexplanon                                        3299\n",
              "Ethinyl estradiol / norgestimate                 3072\n",
              "                                                 ... \n",
              "Dextromethorphan / phenylephrine / pyrilamine       1\n",
              "Dexpanthenol                                        1\n",
              "Pyridoxine                                          1\n",
              "Pyrimethamine                                       1\n",
              "A + D Cracked Skin Relief                           1\n",
              "Name: drugName, Length: 3406, dtype: int64"
            ]
          },
          "metadata": {},
          "execution_count": 128
        }
      ],
      "source": [
        "sorted_data.drugName.value_counts()"
      ],
      "id": "95a39cc8"
    },
    {
      "cell_type": "code",
      "execution_count": null,
      "metadata": {
        "colab": {
          "base_uri": "https://localhost:8080/"
        },
        "id": "fd6e0771",
        "outputId": "dbff6503-c337-4d60-afee-cf9f93326548"
      },
      "outputs": [
        {
          "output_type": "execute_result",
          "data": {
            "text/plain": [
              "6510      \"I have severe cracked skin on my hands.  I&#0...\n",
              "12123     \"It numbs the pain. It makes my ear feel heavi...\n",
              "28481     \"Handable headaches at first but disappeared a...\n",
              "39333     \"Went from a viral load of 17,000 to undetecta...\n",
              "25780     \"No side effects. Reached undetectable in less...\n",
              "                                ...                        \n",
              "160118    \"Recently switched from birth conrtol which ke...\n",
              "139698    \"I was on femHRT for four months and had BV (b...\n",
              "125082    \"I was on femHRT for four months and had BV (b...\n",
              "375       \"This medication completely changed my life fo...\n",
              "203124    \"Recently switched from birth conrtol which ke...\n",
              "Name: review, Length: 213732, dtype: object"
            ]
          },
          "metadata": {},
          "execution_count": 129
        }
      ],
      "source": [
        "sorted_data.review"
      ],
      "id": "fd6e0771"
    },
    {
      "cell_type": "code",
      "execution_count": null,
      "metadata": {
        "id": "edbf06fd"
      },
      "outputs": [],
      "source": [
        "# printing some sample random reviews\n",
        "\n",
        "sent_0 = sorted_data['review'].values[0]\n",
        "print(sent_0)\n",
        "print(\"=\"*20)\n",
        "\n",
        "sent_200 = sorted_data['review'].values[200]\n",
        "print(sent_200)\n",
        "print(\"=\"*20)\n",
        "\n",
        "sent_1500 = sorted_data['review'].values[1500]\n",
        "print(sent_1500)\n",
        "print(\"=\"*20)\n",
        "\n",
        "sent_3000 = sorted_data['review'].values[3000]\n",
        "print(sent_3000)\n",
        "print(\"=\"*20)\n",
        "\n",
        "sent_4110 = sorted_data['review'].values[4110]\n",
        "print(sent_4110)\n",
        "print(\"=\"*20)\n",
        "\n",
        "sent_4800 = sorted_data['review'].values[4800]\n",
        "print(sent_4800)\n",
        "print(\"=\"*20)"
      ],
      "id": "edbf06fd"
    },
    {
      "cell_type": "markdown",
      "source": [
        "# Importing english stopwords"
      ],
      "metadata": {
        "id": "3v3Wh8our8W8"
      },
      "id": "3v3Wh8our8W8"
    },
    {
      "cell_type": "code",
      "execution_count": null,
      "metadata": {
        "colab": {
          "base_uri": "https://localhost:8080/"
        },
        "id": "bba29306",
        "outputId": "66fc3f49-846d-4b4e-e9d6-815c0857a524"
      },
      "outputs": [
        {
          "output_type": "stream",
          "name": "stderr",
          "text": [
            "[nltk_data] Downloading package stopwords to /root/nltk_data...\n",
            "[nltk_data]   Package stopwords is already up-to-date!\n"
          ]
        }
      ],
      "source": [
        "nltk.download('stopwords')\n",
        "from nltk.corpus import stopwords\n",
        "stop_words = set(stopwords.words('english'))"
      ],
      "id": "bba29306"
    },
    {
      "cell_type": "code",
      "execution_count": null,
      "metadata": {
        "id": "d99647eb"
      },
      "outputs": [],
      "source": [
        "stopwords = set(stop_words)"
      ],
      "id": "d99647eb"
    },
    {
      "cell_type": "code",
      "execution_count": null,
      "metadata": {
        "colab": {
          "base_uri": "https://localhost:8080/"
        },
        "id": "vxcp81x9-Sla",
        "outputId": "2c403c3d-cdbc-4219-949e-66a046044b19"
      },
      "outputs": [
        {
          "output_type": "stream",
          "name": "stdout",
          "text": [
            "Looking in indexes: https://pypi.org/simple, https://us-python.pkg.dev/colab-wheels/public/simple/\n",
            "Requirement already satisfied: contractions in /usr/local/lib/python3.10/dist-packages (0.1.73)\n",
            "Requirement already satisfied: textsearch>=0.0.21 in /usr/local/lib/python3.10/dist-packages (from contractions) (0.0.24)\n",
            "Requirement already satisfied: anyascii in /usr/local/lib/python3.10/dist-packages (from textsearch>=0.0.21->contractions) (0.3.2)\n",
            "Requirement already satisfied: pyahocorasick in /usr/local/lib/python3.10/dist-packages (from textsearch>=0.0.21->contractions) (2.0.0)\n"
          ]
        }
      ],
      "source": [
        "pip install contractions"
      ],
      "id": "vxcp81x9-Sla"
    },
    {
      "cell_type": "markdown",
      "source": [
        "# Apply all the cleaning method at one go with entire text\n"
      ],
      "metadata": {
        "id": "ZfiP_GfAsJLV"
      },
      "id": "ZfiP_GfAsJLV"
    },
    {
      "cell_type": "code",
      "execution_count": null,
      "metadata": {
        "colab": {
          "base_uri": "https://localhost:8080/"
        },
        "id": "e60ea504",
        "outputId": "48bab130-9e7b-46b6-a48d-a4810b3f27a8"
      },
      "outputs": [
        {
          "output_type": "stream",
          "name": "stderr",
          "text": [
            "100%|██████████| 213732/213732 [01:30<00:00, 2365.69it/s]\n"
          ]
        }
      ],
      "source": [
        "\n",
        "from tqdm import tqdm\n",
        "import re\n",
        "from bs4 import BeautifulSoup\n",
        "import contractions\n",
        "preprocesed_reviews = []\n",
        "\n",
        "# tqdm is for printing the status bar\n",
        "for sentence in tqdm(sorted_data['review'].values):\n",
        "    sentence = re.sub(r\"http\\S+\", \"\", sentence)\n",
        "    sentence = BeautifulSoup(sentence, 'lxml').get_text()\n",
        "    sentence = contractions.fix(sentence)\n",
        "    sentence = re.sub(\"S\\*d\\S*\",' ', sentence).strip()\n",
        "    sentence = re.sub('[^A-Za-z]+',' ', sentence)\n",
        "    sentence = ' '.join(e.lower() for e in sentence.split() if e.lower() not in stopwords)\n",
        "    preprocesed_reviews.append(sentence.strip())"
      ],
      "id": "e60ea504"
    },
    {
      "cell_type": "code",
      "execution_count": null,
      "metadata": {
        "id": "654d87f2"
      },
      "outputs": [],
      "source": [
        "sent0 = preprocesed_reviews[0]"
      ],
      "id": "654d87f2"
    },
    {
      "cell_type": "code",
      "execution_count": null,
      "metadata": {
        "id": "08bdefd0"
      },
      "outputs": [],
      "source": [
        "sent100 = preprocesed_reviews[100]"
      ],
      "id": "08bdefd0"
    },
    {
      "cell_type": "code",
      "execution_count": null,
      "metadata": {
        "id": "7c760238"
      },
      "outputs": [],
      "source": [
        "sent250 = preprocesed_reviews[250]"
      ],
      "id": "7c760238"
    },
    {
      "cell_type": "code",
      "execution_count": null,
      "metadata": {
        "id": "462a4d94"
      },
      "outputs": [],
      "source": [
        "sent500 = preprocesed_reviews[500]"
      ],
      "id": "462a4d94"
    },
    {
      "cell_type": "code",
      "execution_count": null,
      "metadata": {
        "colab": {
          "base_uri": "https://localhost:8080/"
        },
        "id": "73893b4d",
        "outputId": "a3717ec8-461a-4c3b-d430-47d84bfb2eb8"
      },
      "outputs": [
        {
          "output_type": "stream",
          "name": "stdout",
          "text": [
            "severe cracked skin hands tried many different products skin extremely sensitive product helps heal skin sting greasy important using hands best product found condition hard find drugstore cannot even order anymore\n",
            "==================================================\n",
            "works great side effects minimal\n",
            "==================================================\n",
            "antidepressants years several different meds doc celexa mg still experiencing anxiety worsening depression tried abilify mg terrific day anxiety horrible could sit still med tripled anxiety stopped taking celexa mg started back welbutrin today finally anxiety caused abilify gone see doctor tomorrow wondering else works anxiety\n",
            "==================================================\n",
            "going medication switching less expensive one became fuzzy headed unclear horrible went back took four weeks start working finally started seeing things clearly things getting easier sort miracle drug anxiety kind fear would recommend med\n"
          ]
        }
      ],
      "source": [
        "print(sent0)\n",
        "print(\"=\"*50)\n",
        "print(sent100)\n",
        "print(\"=\"*50)\n",
        "print(sent250)\n",
        "print(\"=\"*50)\n",
        "print(sent500)"
      ],
      "id": "73893b4d"
    },
    {
      "cell_type": "code",
      "execution_count": null,
      "metadata": {
        "id": "JG6Cq8dV9WAq"
      },
      "outputs": [],
      "source": [
        "from sklearn.model_selection import train_test_split\n",
        "from sklearn.ensemble import RandomForestClassifier\n",
        "from sklearn.metrics import classification_report\n",
        "from sklearn.pipeline import Pipeline\n",
        "from sklearn.metrics import confusion_matrix"
      ],
      "id": "JG6Cq8dV9WAq"
    },
    {
      "cell_type": "code",
      "execution_count": null,
      "metadata": {
        "id": "Xdsk8phU9WKg"
      },
      "outputs": [],
      "source": [
        "# Splitting data into train and test data\n",
        "x_train,x_test,y_train,y_test = train_test_split(preprocesed_reviews,sorted_data['rating'],train_size=.80,random_state=101)"
      ],
      "id": "Xdsk8phU9WKg"
    },
    {
      "cell_type": "markdown",
      "source": [
        "# Random Forest"
      ],
      "metadata": {
        "id": "RbcVXi-7sdqD"
      },
      "id": "RbcVXi-7sdqD"
    },
    {
      "cell_type": "code",
      "execution_count": null,
      "metadata": {
        "id": "U80QtQzH9WN_",
        "colab": {
          "base_uri": "https://localhost:8080/"
        },
        "outputId": "e6ad3bb4-124c-4642-91e6-38618e418c8a"
      },
      "outputs": [
        {
          "output_type": "stream",
          "name": "stdout",
          "text": [
            "              precision    recall  f1-score   support\n",
            "\n",
            "           0       1.00      1.00      1.00     85692\n",
            "           1       1.00      1.00      1.00     85293\n",
            "\n",
            "    accuracy                           1.00    170985\n",
            "   macro avg       1.00      1.00      1.00    170985\n",
            "weighted avg       1.00      1.00      1.00    170985\n",
            "\n",
            "**********************************************************************************************************************************************************************************************************************************************************\n",
            "              precision    recall  f1-score   support\n",
            "\n",
            "           0       0.95      0.96      0.95     21174\n",
            "           1       0.96      0.95      0.95     21573\n",
            "\n",
            "    accuracy                           0.95     42747\n",
            "   macro avg       0.95      0.95      0.95     42747\n",
            "weighted avg       0.95      0.95      0.95     42747\n",
            "\n",
            "0.999461941105945\n",
            "**********************************************************************************************************************************************************************************************************************************************************\n",
            "0.9545231244297846\n"
          ]
        }
      ],
      "source": [
        "# Pipeline for tfidf vectorizer and random forest\n",
        "classification_model_rand = Pipeline([('tfidf', TfidfVectorizer()),\n",
        "                                ('randomforest', RandomForestClassifier(n_estimators=100,n_jobs=-1,min_samples_split=10))])\n",
        "classification_model_rand.fit(x_train, y_train)\n",
        "\n",
        "# predict the model\n",
        "y_pred_train = classification_model_rand.predict(x_train)\n",
        "y_pred_test = classification_model_rand.predict(x_test)\n",
        "\n",
        "# Confusion Matrix\n",
        "\n",
        "confusion_matrix(y_train, y_pred_train)\n",
        "\n",
        "# Calssification report\n",
        "print(classification_report(y_train, y_pred_train))\n",
        "\n",
        "print(\"*************************\"*10)\n",
        "\n",
        "print(classification_report(y_test, y_pred_test))\n",
        "\n",
        "# Accuracy acore\n",
        "from sklearn.metrics import accuracy_score\n",
        "print(accuracy_score(y_train, y_pred_train))\n",
        "\n",
        "print(\"*************************\"*10)\n",
        "\n",
        "print(accuracy_score(y_test, y_pred_test))"
      ],
      "id": "U80QtQzH9WN_"
    },
    {
      "cell_type": "markdown",
      "source": [
        "# Logistic Regression"
      ],
      "metadata": {
        "id": "heNInTiNsmTc"
      },
      "id": "heNInTiNsmTc"
    },
    {
      "cell_type": "code",
      "execution_count": null,
      "metadata": {
        "id": "cu9Ls2toOvgz",
        "colab": {
          "base_uri": "https://localhost:8080/"
        },
        "outputId": "320bf391-e8ac-4bfd-dfba-364b0f4c6457"
      },
      "outputs": [
        {
          "output_type": "stream",
          "name": "stdout",
          "text": [
            "Training Set:\n",
            "              precision    recall  f1-score   support\n",
            "\n",
            "           0       0.85      0.85      0.85     85692\n",
            "           1       0.85      0.84      0.85     85293\n",
            "\n",
            "    accuracy                           0.85    170985\n",
            "   macro avg       0.85      0.85      0.85    170985\n",
            "weighted avg       0.85      0.85      0.85    170985\n",
            "\n",
            "**********************************************************************************************************************************************************************************************************************************************************\n",
            "Testing Set:\n",
            "              precision    recall  f1-score   support\n",
            "\n",
            "           0       0.82      0.84      0.83     21174\n",
            "           1       0.84      0.82      0.83     21573\n",
            "\n",
            "    accuracy                           0.83     42747\n",
            "   macro avg       0.83      0.83      0.83     42747\n",
            "weighted avg       0.83      0.83      0.83     42747\n",
            "\n",
            "0.8488171477030149\n",
            "**********************************************************************************************************************************************************************************************************************************************************\n",
            "0.8290640278849978\n"
          ]
        }
      ],
      "source": [
        "# Pipeline for tfidf vectorizer and Logistic Regression\n",
        "from sklearn.linear_model import LogisticRegression\n",
        "lr = Pipeline([('tfidf', TfidfVectorizer()),\n",
        "                                ('Logistic_regression', LogisticRegression())])\n",
        "# Train the model\n",
        "lr.fit(x_train, y_train)\n",
        "\n",
        "# Make predictions\n",
        "y_pred_train_lr = lr.predict(x_train)\n",
        "y_pred_test_lr = lr.predict(x_test)\n",
        "\n",
        "# Evaluate the model\n",
        "print(\"Training Set:\")\n",
        "print(classification_report(y_train, y_pred_train_lr))\n",
        "print(\"*************************\"*10)\n",
        "print(\"Testing Set:\")\n",
        "print(classification_report(y_test, y_pred_test_lr))\n",
        "\n",
        "\n",
        "# Accuracy acore\n",
        "from sklearn.metrics import accuracy_score\n",
        "print(accuracy_score(y_train, y_pred_train_lr))\n",
        "\n",
        "print(\"*************************\"*10)\n",
        "\n",
        "print(accuracy_score(y_test, y_pred_test_lr))\n"
      ],
      "id": "cu9Ls2toOvgz"
    },
    {
      "cell_type": "markdown",
      "source": [
        "# Importing unseen data for testing"
      ],
      "metadata": {
        "id": "76EA__mTsuzZ"
      },
      "id": "76EA__mTsuzZ"
    },
    {
      "cell_type": "code",
      "source": [
        "test_data = pd.read_csv('/content/drugsComTest_raw.tsv', sep='\\t')"
      ],
      "metadata": {
        "id": "moBqS5PwU_9P"
      },
      "id": "moBqS5PwU_9P",
      "execution_count": null,
      "outputs": []
    },
    {
      "cell_type": "code",
      "source": [
        "test_data.head()"
      ],
      "metadata": {
        "colab": {
          "base_uri": "https://localhost:8080/",
          "height": 206
        },
        "id": "Hd_Vkm2QW41I",
        "outputId": "15ca1331-8500-453f-e58e-e6b492295d63"
      },
      "id": "Hd_Vkm2QW41I",
      "execution_count": null,
      "outputs": [
        {
          "output_type": "execute_result",
          "data": {
            "text/plain": [
              "   Unnamed: 0         drugName                     condition  \\\n",
              "0      163740      Mirtazapine                    Depression   \n",
              "1      206473       Mesalamine  Crohn's Disease, Maintenance   \n",
              "2      159672          Bactrim       Urinary Tract Infection   \n",
              "3       39293         Contrave                   Weight Loss   \n",
              "4       97768  Cyclafem 1 / 35                 Birth Control   \n",
              "\n",
              "                                              review  rating  \\\n",
              "0  \"I&#039;ve tried a few antidepressants over th...    10.0   \n",
              "1  \"My son has Crohn&#039;s disease and has done ...     8.0   \n",
              "2                      \"Quick reduction of symptoms\"     9.0   \n",
              "3  \"Contrave combines drugs that were used for al...     9.0   \n",
              "4  \"I have been on this birth control for one cyc...     9.0   \n",
              "\n",
              "                 date  usefulCount  \n",
              "0   February 28, 2012           22  \n",
              "1        May 17, 2009           17  \n",
              "2  September 29, 2017            3  \n",
              "3       March 5, 2017           35  \n",
              "4    October 22, 2015            4  "
            ],
            "text/html": [
              "\n",
              "  <div id=\"df-5dd431eb-be23-4e3c-83c6-3ee5bf14f22f\">\n",
              "    <div class=\"colab-df-container\">\n",
              "      <div>\n",
              "<style scoped>\n",
              "    .dataframe tbody tr th:only-of-type {\n",
              "        vertical-align: middle;\n",
              "    }\n",
              "\n",
              "    .dataframe tbody tr th {\n",
              "        vertical-align: top;\n",
              "    }\n",
              "\n",
              "    .dataframe thead th {\n",
              "        text-align: right;\n",
              "    }\n",
              "</style>\n",
              "<table border=\"1\" class=\"dataframe\">\n",
              "  <thead>\n",
              "    <tr style=\"text-align: right;\">\n",
              "      <th></th>\n",
              "      <th>Unnamed: 0</th>\n",
              "      <th>drugName</th>\n",
              "      <th>condition</th>\n",
              "      <th>review</th>\n",
              "      <th>rating</th>\n",
              "      <th>date</th>\n",
              "      <th>usefulCount</th>\n",
              "    </tr>\n",
              "  </thead>\n",
              "  <tbody>\n",
              "    <tr>\n",
              "      <th>0</th>\n",
              "      <td>163740</td>\n",
              "      <td>Mirtazapine</td>\n",
              "      <td>Depression</td>\n",
              "      <td>\"I&amp;#039;ve tried a few antidepressants over th...</td>\n",
              "      <td>10.0</td>\n",
              "      <td>February 28, 2012</td>\n",
              "      <td>22</td>\n",
              "    </tr>\n",
              "    <tr>\n",
              "      <th>1</th>\n",
              "      <td>206473</td>\n",
              "      <td>Mesalamine</td>\n",
              "      <td>Crohn's Disease, Maintenance</td>\n",
              "      <td>\"My son has Crohn&amp;#039;s disease and has done ...</td>\n",
              "      <td>8.0</td>\n",
              "      <td>May 17, 2009</td>\n",
              "      <td>17</td>\n",
              "    </tr>\n",
              "    <tr>\n",
              "      <th>2</th>\n",
              "      <td>159672</td>\n",
              "      <td>Bactrim</td>\n",
              "      <td>Urinary Tract Infection</td>\n",
              "      <td>\"Quick reduction of symptoms\"</td>\n",
              "      <td>9.0</td>\n",
              "      <td>September 29, 2017</td>\n",
              "      <td>3</td>\n",
              "    </tr>\n",
              "    <tr>\n",
              "      <th>3</th>\n",
              "      <td>39293</td>\n",
              "      <td>Contrave</td>\n",
              "      <td>Weight Loss</td>\n",
              "      <td>\"Contrave combines drugs that were used for al...</td>\n",
              "      <td>9.0</td>\n",
              "      <td>March 5, 2017</td>\n",
              "      <td>35</td>\n",
              "    </tr>\n",
              "    <tr>\n",
              "      <th>4</th>\n",
              "      <td>97768</td>\n",
              "      <td>Cyclafem 1 / 35</td>\n",
              "      <td>Birth Control</td>\n",
              "      <td>\"I have been on this birth control for one cyc...</td>\n",
              "      <td>9.0</td>\n",
              "      <td>October 22, 2015</td>\n",
              "      <td>4</td>\n",
              "    </tr>\n",
              "  </tbody>\n",
              "</table>\n",
              "</div>\n",
              "      <button class=\"colab-df-convert\" onclick=\"convertToInteractive('df-5dd431eb-be23-4e3c-83c6-3ee5bf14f22f')\"\n",
              "              title=\"Convert this dataframe to an interactive table.\"\n",
              "              style=\"display:none;\">\n",
              "        \n",
              "  <svg xmlns=\"http://www.w3.org/2000/svg\" height=\"24px\"viewBox=\"0 0 24 24\"\n",
              "       width=\"24px\">\n",
              "    <path d=\"M0 0h24v24H0V0z\" fill=\"none\"/>\n",
              "    <path d=\"M18.56 5.44l.94 2.06.94-2.06 2.06-.94-2.06-.94-.94-2.06-.94 2.06-2.06.94zm-11 1L8.5 8.5l.94-2.06 2.06-.94-2.06-.94L8.5 2.5l-.94 2.06-2.06.94zm10 10l.94 2.06.94-2.06 2.06-.94-2.06-.94-.94-2.06-.94 2.06-2.06.94z\"/><path d=\"M17.41 7.96l-1.37-1.37c-.4-.4-.92-.59-1.43-.59-.52 0-1.04.2-1.43.59L10.3 9.45l-7.72 7.72c-.78.78-.78 2.05 0 2.83L4 21.41c.39.39.9.59 1.41.59.51 0 1.02-.2 1.41-.59l7.78-7.78 2.81-2.81c.8-.78.8-2.07 0-2.86zM5.41 20L4 18.59l7.72-7.72 1.47 1.35L5.41 20z\"/>\n",
              "  </svg>\n",
              "      </button>\n",
              "      \n",
              "  <style>\n",
              "    .colab-df-container {\n",
              "      display:flex;\n",
              "      flex-wrap:wrap;\n",
              "      gap: 12px;\n",
              "    }\n",
              "\n",
              "    .colab-df-convert {\n",
              "      background-color: #E8F0FE;\n",
              "      border: none;\n",
              "      border-radius: 50%;\n",
              "      cursor: pointer;\n",
              "      display: none;\n",
              "      fill: #1967D2;\n",
              "      height: 32px;\n",
              "      padding: 0 0 0 0;\n",
              "      width: 32px;\n",
              "    }\n",
              "\n",
              "    .colab-df-convert:hover {\n",
              "      background-color: #E2EBFA;\n",
              "      box-shadow: 0px 1px 2px rgba(60, 64, 67, 0.3), 0px 1px 3px 1px rgba(60, 64, 67, 0.15);\n",
              "      fill: #174EA6;\n",
              "    }\n",
              "\n",
              "    [theme=dark] .colab-df-convert {\n",
              "      background-color: #3B4455;\n",
              "      fill: #D2E3FC;\n",
              "    }\n",
              "\n",
              "    [theme=dark] .colab-df-convert:hover {\n",
              "      background-color: #434B5C;\n",
              "      box-shadow: 0px 1px 3px 1px rgba(0, 0, 0, 0.15);\n",
              "      filter: drop-shadow(0px 1px 2px rgba(0, 0, 0, 0.3));\n",
              "      fill: #FFFFFF;\n",
              "    }\n",
              "  </style>\n",
              "\n",
              "      <script>\n",
              "        const buttonEl =\n",
              "          document.querySelector('#df-5dd431eb-be23-4e3c-83c6-3ee5bf14f22f button.colab-df-convert');\n",
              "        buttonEl.style.display =\n",
              "          google.colab.kernel.accessAllowed ? 'block' : 'none';\n",
              "\n",
              "        async function convertToInteractive(key) {\n",
              "          const element = document.querySelector('#df-5dd431eb-be23-4e3c-83c6-3ee5bf14f22f');\n",
              "          const dataTable =\n",
              "            await google.colab.kernel.invokeFunction('convertToInteractive',\n",
              "                                                     [key], {});\n",
              "          if (!dataTable) return;\n",
              "\n",
              "          const docLinkHtml = 'Like what you see? Visit the ' +\n",
              "            '<a target=\"_blank\" href=https://colab.research.google.com/notebooks/data_table.ipynb>data table notebook</a>'\n",
              "            + ' to learn more about interactive tables.';\n",
              "          element.innerHTML = '';\n",
              "          dataTable['output_type'] = 'display_data';\n",
              "          await google.colab.output.renderOutput(dataTable, element);\n",
              "          const docLink = document.createElement('div');\n",
              "          docLink.innerHTML = docLinkHtml;\n",
              "          element.appendChild(docLink);\n",
              "        }\n",
              "      </script>\n",
              "    </div>\n",
              "  </div>\n",
              "  "
            ]
          },
          "metadata": {},
          "execution_count": 145
        }
      ]
    },
    {
      "cell_type": "code",
      "source": [
        "from tqdm import tqdm\n",
        "import re\n",
        "from bs4 import BeautifulSoup\n",
        "import contractions\n",
        "\n",
        "reviews = []\n",
        "\n",
        "# tqdm is for printing the status bar\n",
        "for sentence in tqdm(test_data['review'].values):\n",
        "    sentence = re.sub(r\"http\\S+\", \"\", sentence)\n",
        "    sentence = BeautifulSoup(sentence, 'lxml').get_text()\n",
        "    sentence = contractions.fix(sentence)\n",
        "    sentence = re.sub(\"S\\*d\\S*\", ' ', sentence).strip()\n",
        "    sentence = re.sub('[^A-Za-z]+', ' ', sentence)\n",
        "    sentence = ' '.join(sentence.split())  # Split and join the words to remove extra spaces\n",
        "    reviews.append(sentence)"
      ],
      "metadata": {
        "id": "9_gf9uRnb4zh",
        "colab": {
          "base_uri": "https://localhost:8080/"
        },
        "outputId": "dbf05fe4-eb04-4030-b728-4a060b53ceb2"
      },
      "id": "9_gf9uRnb4zh",
      "execution_count": null,
      "outputs": [
        {
          "output_type": "stream",
          "name": "stderr",
          "text": [
            "100%|██████████| 53766/53766 [00:17<00:00, 3026.29it/s]\n"
          ]
        }
      ]
    },
    {
      "cell_type": "code",
      "source": [
        "sent_1000 = reviews[100:110]"
      ],
      "metadata": {
        "id": "lrHSbA3Xeil5"
      },
      "id": "lrHSbA3Xeil5",
      "execution_count": null,
      "outputs": []
    },
    {
      "cell_type": "code",
      "source": [
        "data = test_data[100:110]\n",
        "data"
      ],
      "metadata": {
        "colab": {
          "base_uri": "https://localhost:8080/",
          "height": 363
        },
        "id": "NAsYsgYguUud",
        "outputId": "c80d5524-1cff-4acb-b5a6-3b1d37fbc4f9"
      },
      "id": "NAsYsgYguUud",
      "execution_count": null,
      "outputs": [
        {
          "output_type": "execute_result",
          "data": {
            "text/plain": [
              "     Unnamed: 0                          drugName                 condition  \\\n",
              "100       41991                         Clonidine                      ADHD   \n",
              "101       85618  Ethinyl estradiol / norgestimate             Birth Control   \n",
              "102       62652                       Nicoderm CQ         Smoking Cessation   \n",
              "103      129850                    Levonorgestrel   Emergency Contraception   \n",
              "104      103401                         Celecoxib            Osteoarthritis   \n",
              "105       45260                        Fluoxetine  Major Depressive Disorde   \n",
              "106      222701                           Topamax       Migraine Prevention   \n",
              "107      218886                          Depakote           Bipolar Disorde   \n",
              "108      224062                        Riboflavin       Migraine Prevention   \n",
              "109        9723                    Lo Loestrin Fe             Birth Control   \n",
              "\n",
              "                                                review  rating  \\\n",
              "100  \"My 5 year old son was diagnosed with ADHD jus...    10.0   \n",
              "101  \"I&#039;d never been on birth control up until...     4.0   \n",
              "102  \"I will say this about the patch. It work for ...    10.0   \n",
              "103  \"on March 21-25 I had my period. On March 26 I...     8.0   \n",
              "104                \"Celebrex did nothing for my pain.\"     1.0   \n",
              "105  \"I have Major Depressive Disorder, Bipolar Dis...    10.0   \n",
              "106  \"I seemed to catch everything while I was on t...     1.0   \n",
              "107  \"General tiredness with the medication but no ...     8.0   \n",
              "108                \"I take 400 mg a day and it helps.\"     8.0   \n",
              "109  \"BC from below. Rapid weight gain, swelling an...     1.0   \n",
              "\n",
              "                   date  usefulCount  \n",
              "100      April 30, 2011          159  \n",
              "101       July 20, 2014           35  \n",
              "102   February 24, 2017           14  \n",
              "103      April 27, 2015            9  \n",
              "104   February 12, 2009           35  \n",
              "105   November 23, 2015           58  \n",
              "106  September 14, 2015           31  \n",
              "107    January 22, 2012           22  \n",
              "108     August 24, 2011           22  \n",
              "109     October 2, 2015            3  "
            ],
            "text/html": [
              "\n",
              "  <div id=\"df-b6c4f349-bea1-4a2a-b05e-47e0622819c0\">\n",
              "    <div class=\"colab-df-container\">\n",
              "      <div>\n",
              "<style scoped>\n",
              "    .dataframe tbody tr th:only-of-type {\n",
              "        vertical-align: middle;\n",
              "    }\n",
              "\n",
              "    .dataframe tbody tr th {\n",
              "        vertical-align: top;\n",
              "    }\n",
              "\n",
              "    .dataframe thead th {\n",
              "        text-align: right;\n",
              "    }\n",
              "</style>\n",
              "<table border=\"1\" class=\"dataframe\">\n",
              "  <thead>\n",
              "    <tr style=\"text-align: right;\">\n",
              "      <th></th>\n",
              "      <th>Unnamed: 0</th>\n",
              "      <th>drugName</th>\n",
              "      <th>condition</th>\n",
              "      <th>review</th>\n",
              "      <th>rating</th>\n",
              "      <th>date</th>\n",
              "      <th>usefulCount</th>\n",
              "    </tr>\n",
              "  </thead>\n",
              "  <tbody>\n",
              "    <tr>\n",
              "      <th>100</th>\n",
              "      <td>41991</td>\n",
              "      <td>Clonidine</td>\n",
              "      <td>ADHD</td>\n",
              "      <td>\"My 5 year old son was diagnosed with ADHD jus...</td>\n",
              "      <td>10.0</td>\n",
              "      <td>April 30, 2011</td>\n",
              "      <td>159</td>\n",
              "    </tr>\n",
              "    <tr>\n",
              "      <th>101</th>\n",
              "      <td>85618</td>\n",
              "      <td>Ethinyl estradiol / norgestimate</td>\n",
              "      <td>Birth Control</td>\n",
              "      <td>\"I&amp;#039;d never been on birth control up until...</td>\n",
              "      <td>4.0</td>\n",
              "      <td>July 20, 2014</td>\n",
              "      <td>35</td>\n",
              "    </tr>\n",
              "    <tr>\n",
              "      <th>102</th>\n",
              "      <td>62652</td>\n",
              "      <td>Nicoderm CQ</td>\n",
              "      <td>Smoking Cessation</td>\n",
              "      <td>\"I will say this about the patch. It work for ...</td>\n",
              "      <td>10.0</td>\n",
              "      <td>February 24, 2017</td>\n",
              "      <td>14</td>\n",
              "    </tr>\n",
              "    <tr>\n",
              "      <th>103</th>\n",
              "      <td>129850</td>\n",
              "      <td>Levonorgestrel</td>\n",
              "      <td>Emergency Contraception</td>\n",
              "      <td>\"on March 21-25 I had my period. On March 26 I...</td>\n",
              "      <td>8.0</td>\n",
              "      <td>April 27, 2015</td>\n",
              "      <td>9</td>\n",
              "    </tr>\n",
              "    <tr>\n",
              "      <th>104</th>\n",
              "      <td>103401</td>\n",
              "      <td>Celecoxib</td>\n",
              "      <td>Osteoarthritis</td>\n",
              "      <td>\"Celebrex did nothing for my pain.\"</td>\n",
              "      <td>1.0</td>\n",
              "      <td>February 12, 2009</td>\n",
              "      <td>35</td>\n",
              "    </tr>\n",
              "    <tr>\n",
              "      <th>105</th>\n",
              "      <td>45260</td>\n",
              "      <td>Fluoxetine</td>\n",
              "      <td>Major Depressive Disorde</td>\n",
              "      <td>\"I have Major Depressive Disorder, Bipolar Dis...</td>\n",
              "      <td>10.0</td>\n",
              "      <td>November 23, 2015</td>\n",
              "      <td>58</td>\n",
              "    </tr>\n",
              "    <tr>\n",
              "      <th>106</th>\n",
              "      <td>222701</td>\n",
              "      <td>Topamax</td>\n",
              "      <td>Migraine Prevention</td>\n",
              "      <td>\"I seemed to catch everything while I was on t...</td>\n",
              "      <td>1.0</td>\n",
              "      <td>September 14, 2015</td>\n",
              "      <td>31</td>\n",
              "    </tr>\n",
              "    <tr>\n",
              "      <th>107</th>\n",
              "      <td>218886</td>\n",
              "      <td>Depakote</td>\n",
              "      <td>Bipolar Disorde</td>\n",
              "      <td>\"General tiredness with the medication but no ...</td>\n",
              "      <td>8.0</td>\n",
              "      <td>January 22, 2012</td>\n",
              "      <td>22</td>\n",
              "    </tr>\n",
              "    <tr>\n",
              "      <th>108</th>\n",
              "      <td>224062</td>\n",
              "      <td>Riboflavin</td>\n",
              "      <td>Migraine Prevention</td>\n",
              "      <td>\"I take 400 mg a day and it helps.\"</td>\n",
              "      <td>8.0</td>\n",
              "      <td>August 24, 2011</td>\n",
              "      <td>22</td>\n",
              "    </tr>\n",
              "    <tr>\n",
              "      <th>109</th>\n",
              "      <td>9723</td>\n",
              "      <td>Lo Loestrin Fe</td>\n",
              "      <td>Birth Control</td>\n",
              "      <td>\"BC from below. Rapid weight gain, swelling an...</td>\n",
              "      <td>1.0</td>\n",
              "      <td>October 2, 2015</td>\n",
              "      <td>3</td>\n",
              "    </tr>\n",
              "  </tbody>\n",
              "</table>\n",
              "</div>\n",
              "      <button class=\"colab-df-convert\" onclick=\"convertToInteractive('df-b6c4f349-bea1-4a2a-b05e-47e0622819c0')\"\n",
              "              title=\"Convert this dataframe to an interactive table.\"\n",
              "              style=\"display:none;\">\n",
              "        \n",
              "  <svg xmlns=\"http://www.w3.org/2000/svg\" height=\"24px\"viewBox=\"0 0 24 24\"\n",
              "       width=\"24px\">\n",
              "    <path d=\"M0 0h24v24H0V0z\" fill=\"none\"/>\n",
              "    <path d=\"M18.56 5.44l.94 2.06.94-2.06 2.06-.94-2.06-.94-.94-2.06-.94 2.06-2.06.94zm-11 1L8.5 8.5l.94-2.06 2.06-.94-2.06-.94L8.5 2.5l-.94 2.06-2.06.94zm10 10l.94 2.06.94-2.06 2.06-.94-2.06-.94-.94-2.06-.94 2.06-2.06.94z\"/><path d=\"M17.41 7.96l-1.37-1.37c-.4-.4-.92-.59-1.43-.59-.52 0-1.04.2-1.43.59L10.3 9.45l-7.72 7.72c-.78.78-.78 2.05 0 2.83L4 21.41c.39.39.9.59 1.41.59.51 0 1.02-.2 1.41-.59l7.78-7.78 2.81-2.81c.8-.78.8-2.07 0-2.86zM5.41 20L4 18.59l7.72-7.72 1.47 1.35L5.41 20z\"/>\n",
              "  </svg>\n",
              "      </button>\n",
              "      \n",
              "  <style>\n",
              "    .colab-df-container {\n",
              "      display:flex;\n",
              "      flex-wrap:wrap;\n",
              "      gap: 12px;\n",
              "    }\n",
              "\n",
              "    .colab-df-convert {\n",
              "      background-color: #E8F0FE;\n",
              "      border: none;\n",
              "      border-radius: 50%;\n",
              "      cursor: pointer;\n",
              "      display: none;\n",
              "      fill: #1967D2;\n",
              "      height: 32px;\n",
              "      padding: 0 0 0 0;\n",
              "      width: 32px;\n",
              "    }\n",
              "\n",
              "    .colab-df-convert:hover {\n",
              "      background-color: #E2EBFA;\n",
              "      box-shadow: 0px 1px 2px rgba(60, 64, 67, 0.3), 0px 1px 3px 1px rgba(60, 64, 67, 0.15);\n",
              "      fill: #174EA6;\n",
              "    }\n",
              "\n",
              "    [theme=dark] .colab-df-convert {\n",
              "      background-color: #3B4455;\n",
              "      fill: #D2E3FC;\n",
              "    }\n",
              "\n",
              "    [theme=dark] .colab-df-convert:hover {\n",
              "      background-color: #434B5C;\n",
              "      box-shadow: 0px 1px 3px 1px rgba(0, 0, 0, 0.15);\n",
              "      filter: drop-shadow(0px 1px 2px rgba(0, 0, 0, 0.3));\n",
              "      fill: #FFFFFF;\n",
              "    }\n",
              "  </style>\n",
              "\n",
              "      <script>\n",
              "        const buttonEl =\n",
              "          document.querySelector('#df-b6c4f349-bea1-4a2a-b05e-47e0622819c0 button.colab-df-convert');\n",
              "        buttonEl.style.display =\n",
              "          google.colab.kernel.accessAllowed ? 'block' : 'none';\n",
              "\n",
              "        async function convertToInteractive(key) {\n",
              "          const element = document.querySelector('#df-b6c4f349-bea1-4a2a-b05e-47e0622819c0');\n",
              "          const dataTable =\n",
              "            await google.colab.kernel.invokeFunction('convertToInteractive',\n",
              "                                                     [key], {});\n",
              "          if (!dataTable) return;\n",
              "\n",
              "          const docLinkHtml = 'Like what you see? Visit the ' +\n",
              "            '<a target=\"_blank\" href=https://colab.research.google.com/notebooks/data_table.ipynb>data table notebook</a>'\n",
              "            + ' to learn more about interactive tables.';\n",
              "          element.innerHTML = '';\n",
              "          dataTable['output_type'] = 'display_data';\n",
              "          await google.colab.output.renderOutput(dataTable, element);\n",
              "          const docLink = document.createElement('div');\n",
              "          docLink.innerHTML = docLinkHtml;\n",
              "          element.appendChild(docLink);\n",
              "        }\n",
              "      </script>\n",
              "    </div>\n",
              "  </div>\n",
              "  "
            ]
          },
          "metadata": {},
          "execution_count": 196
        }
      ]
    },
    {
      "cell_type": "code",
      "source": [
        "[1,0,1,1,0,1,0,1,1,0]"
      ],
      "metadata": {
        "id": "kdayW30But6Q"
      },
      "id": "kdayW30But6Q",
      "execution_count": null,
      "outputs": []
    },
    {
      "cell_type": "code",
      "source": [
        "# Testing on random forest\n",
        "test_rf = classification_model_rand.predict(sent_1000)"
      ],
      "metadata": {
        "id": "sQoixt3JZ_Rt"
      },
      "id": "sQoixt3JZ_Rt",
      "execution_count": null,
      "outputs": []
    },
    {
      "cell_type": "code",
      "source": [
        "test_rf"
      ],
      "metadata": {
        "colab": {
          "base_uri": "https://localhost:8080/"
        },
        "id": "PKRNUW_Medf_",
        "outputId": "45b0b5b3-6747-4b55-c248-70c859feaa51"
      },
      "id": "PKRNUW_Medf_",
      "execution_count": null,
      "outputs": [
        {
          "output_type": "execute_result",
          "data": {
            "text/plain": [
              "array([1, 0, 1, 1, 0, 1, 1, 0, 1, 0])"
            ]
          },
          "metadata": {},
          "execution_count": 198
        }
      ]
    },
    {
      "cell_type": "code",
      "source": [
        "# Testing on logistic regression\n",
        "test_lr = lr.predict(sent_1000)"
      ],
      "metadata": {
        "id": "S9Kd_ng6fRSo"
      },
      "id": "S9Kd_ng6fRSo",
      "execution_count": null,
      "outputs": []
    },
    {
      "cell_type": "code",
      "source": [
        "test_lr"
      ],
      "metadata": {
        "colab": {
          "base_uri": "https://localhost:8080/"
        },
        "id": "Z86stW-xf1hX",
        "outputId": "487ca8ab-5440-4d3c-832e-7a9c9d84cbf5"
      },
      "id": "Z86stW-xf1hX",
      "execution_count": null,
      "outputs": [
        {
          "output_type": "execute_result",
          "data": {
            "text/plain": [
              "array([1, 0, 1, 1, 0, 1, 0, 0, 1, 0])"
            ]
          },
          "metadata": {},
          "execution_count": 200
        }
      ]
    },
    {
      "cell_type": "markdown",
      "source": [
        "## After Testing with lot of samples and all i find out that Logistic regression model generalising well and giving good result than random forest even its accuracy is low"
      ],
      "metadata": {
        "id": "L3N95vK4wCwI"
      },
      "id": "L3N95vK4wCwI"
    },
    {
      "cell_type": "code",
      "source": [],
      "metadata": {
        "id": "biBZuKfUwVOs"
      },
      "id": "biBZuKfUwVOs",
      "execution_count": null,
      "outputs": []
    }
  ],
  "metadata": {
    "accelerator": "GPU",
    "colab": {
      "provenance": [],
      "gpuType": "T4"
    },
    "kernelspec": {
      "display_name": "Python 3",
      "name": "python3"
    },
    "language_info": {
      "codemirror_mode": {
        "name": "ipython",
        "version": 3
      },
      "file_extension": ".py",
      "mimetype": "text/x-python",
      "name": "python",
      "nbconvert_exporter": "python",
      "pygments_lexer": "ipython3",
      "version": "3.10.11"
    }
  },
  "nbformat": 4,
  "nbformat_minor": 5
}