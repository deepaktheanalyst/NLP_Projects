{
 "cells": [
  {
   "cell_type": "code",
   "execution_count": 1,
   "id": "86c6eed7-0648-4772-a12e-088d48105f4e",
   "metadata": {},
   "outputs": [],
   "source": [
    "import pandas as pd\n",
    "import numpy as np\n",
    "import matplotlib.pyplot as plt\n",
    "%matplotlib inline\n",
    "import seaborn as sns\n",
    "sns.set()\n",
    "import tensorflow as tf\n",
    "import warnings\n",
    "warnings.filterwarnings('ignore')"
   ]
  },
  {
   "cell_type": "code",
   "execution_count": 2,
   "id": "20a18882-c874-47df-bb30-1b35f8a5454d",
   "metadata": {},
   "outputs": [],
   "source": [
    "book_df = pd.read_csv('book_review.csv',encoding='latin-1')"
   ]
  },
  {
   "cell_type": "code",
   "execution_count": 3,
   "id": "cec5f433-7d4f-46fe-9fe1-b56501339cb1",
   "metadata": {},
   "outputs": [
    {
     "data": {
      "text/html": [
       "<div>\n",
       "<style scoped>\n",
       "    .dataframe tbody tr th:only-of-type {\n",
       "        vertical-align: middle;\n",
       "    }\n",
       "\n",
       "    .dataframe tbody tr th {\n",
       "        vertical-align: top;\n",
       "    }\n",
       "\n",
       "    .dataframe thead th {\n",
       "        text-align: right;\n",
       "    }\n",
       "</style>\n",
       "<table border=\"1\" class=\"dataframe\">\n",
       "  <thead>\n",
       "    <tr style=\"text-align: right;\">\n",
       "      <th></th>\n",
       "      <th>ratings</th>\n",
       "      <th>reviews</th>\n",
       "    </tr>\n",
       "  </thead>\n",
       "  <tbody>\n",
       "    <tr>\n",
       "      <th>0</th>\n",
       "      <td>5</td>\n",
       "      <td>When Jennifer, a college student, returns to h...</td>\n",
       "    </tr>\n",
       "    <tr>\n",
       "      <th>1</th>\n",
       "      <td>5</td>\n",
       "      <td>Growing up in the Appalachian mountains of sou...</td>\n",
       "    </tr>\n",
       "    <tr>\n",
       "      <th>2</th>\n",
       "      <td>5</td>\n",
       "      <td>âThe heat is lifting some now, so a little w...</td>\n",
       "    </tr>\n",
       "    <tr>\n",
       "      <th>3</th>\n",
       "      <td>5</td>\n",
       "      <td>When I was growing up, all family history was ...</td>\n",
       "    </tr>\n",
       "    <tr>\n",
       "      <th>4</th>\n",
       "      <td>5</td>\n",
       "      <td>This is a story about five generations of the ...</td>\n",
       "    </tr>\n",
       "  </tbody>\n",
       "</table>\n",
       "</div>"
      ],
      "text/plain": [
       "   ratings                                            reviews\n",
       "0        5  When Jennifer, a college student, returns to h...\n",
       "1        5  Growing up in the Appalachian mountains of sou...\n",
       "2        5  âThe heat is lifting some now, so a little w...\n",
       "3        5  When I was growing up, all family history was ...\n",
       "4        5  This is a story about five generations of the ..."
      ]
     },
     "execution_count": 3,
     "metadata": {},
     "output_type": "execute_result"
    }
   ],
   "source": [
    "book_df.head()"
   ]
  },
  {
   "cell_type": "code",
   "execution_count": 4,
   "id": "584d1d87-431a-4362-9191-15e1ad319455",
   "metadata": {},
   "outputs": [],
   "source": [
    "# Function to clean text fom any kind of punctuation and other symbols\n",
    "import re\n",
    "def clean_text(text):\n",
    "    cleaned_text = re.sub(r'[^a-zA-Z\\s\\d]', '', text)\n",
    "    cleaned_text = re.sub(r'\\s+', ' ', cleaned_text)\n",
    "    cleaned_text = cleaned_text.strip()\n",
    "    return cleaned_text"
   ]
  },
  {
   "cell_type": "code",
   "execution_count": 5,
   "id": "0289eb2e-e458-4624-b1b7-5819760c1745",
   "metadata": {},
   "outputs": [],
   "source": [
    "# Basic Preprocessing\n",
    "import contractions\n",
    "book_df['reviews'] = book_df['reviews'].str.lower()\n",
    "book_df['reviews'] = book_df['reviews'].apply(clean_text)\n",
    "book_df['reviews'] = book_df['reviews'].apply(contractions.fix)"
   ]
  },
  {
   "cell_type": "code",
   "execution_count": 6,
   "id": "b7811791-fbe2-4d3f-9f65-e3cf5fe7788f",
   "metadata": {},
   "outputs": [
    {
     "data": {
      "text/plain": [
       "0        when jennifer a college student returns to her...\n",
       "1        growing up in the appalachian mountains of sou...\n",
       "2        the heat is lifting some now so a little wind ...\n",
       "3        when i was growing up all family history was o...\n",
       "4        this is a story about five generations of the ...\n",
       "                               ...                        \n",
       "66587    what she had realized was that love was that m...\n",
       "66588    when i watched the films i had no idea they we...\n",
       "66589    claire foy as lisbeth salanderin this continua...\n",
       "66590    my alltime favorite badass heroine returns in ...\n",
       "66591    25 starsthis should never have happened despit...\n",
       "Name: reviews, Length: 66592, dtype: object"
      ]
     },
     "execution_count": 6,
     "metadata": {},
     "output_type": "execute_result"
    }
   ],
   "source": [
    "book_df['reviews']"
   ]
  },
  {
   "cell_type": "code",
   "execution_count": 7,
   "id": "a8a6b238-9a1a-4216-8ec9-6c1e7e6e9a43",
   "metadata": {},
   "outputs": [],
   "source": [
    "review_len = []\n",
    "for review in book_df['reviews']:\n",
    "    review_len.append(len(review))"
   ]
  },
  {
   "cell_type": "code",
   "execution_count": 8,
   "id": "6dbbb064-5c62-41d3-b8c8-ce5038908b89",
   "metadata": {},
   "outputs": [],
   "source": [
    "book_df['review_len'] = review_len "
   ]
  },
  {
   "cell_type": "code",
   "execution_count": 9,
   "id": "5260b536-e245-4d66-ba91-f6a6ef9ded41",
   "metadata": {},
   "outputs": [],
   "source": [
    "total_words = []\n",
    "for review in book_df['reviews']:\n",
    "    total_words.append(len(review.split()))"
   ]
  },
  {
   "cell_type": "code",
   "execution_count": 10,
   "id": "cd6fe8a0-4572-4c58-8d58-34bed61a148c",
   "metadata": {},
   "outputs": [],
   "source": [
    "book_df['total_words'] = total_words"
   ]
  },
  {
   "cell_type": "code",
   "execution_count": 11,
   "id": "53233b64-b4a1-47d1-bb71-62efcdb5ec20",
   "metadata": {},
   "outputs": [
    {
     "name": "stdout",
     "output_type": "stream",
     "text": [
      "oral history has two meanings here on one hand it refers to outsiders or foreigners as they were known in the hill country who came in to listen to stories and songs from the oldtimers to give them a sense of how it used to be it was also the only way those oldtimers had to convey family history and community lore in the mountains before modern roads and communications brought the rest of the world crashing in for better or worse lee smith has given us a novel that puts us squarely in the world of the cantrells of hoot owl holler starting with the old ways and superstitions of the past and wrapping it up in the modern era leaving us to wonder which is better after allat my age i have a foot in both camps as does lee smith and she loves and knows her characters in addition to telling a riveting story that was hard for me to put down i reveled in the language and the words that i can remember hearing in my childhood along with the superstitions and old wives tales that i heard and still halfway believe to this day feuds and violence and retribution went hand in hand with an entire community gathering to help whenever and wherever it was needed i have never actually witnessed a hog butchering but i bet lee smith has i actually have been to pentecostal meetings with my grandmother so i know the snakes and talking in tongues she describes is real every word rang true in this novel as i was swept into a world of the past that i was sorry to leave\n",
      "##############################\n",
      "finally finally i finished this this is a collection of dorothy parkers work which unfortunately mostly entails short stories some of these i loved big blonde a telephone call the custard heart from the diary of a new york lady but mostly i had to wrestle through them one can take only so many of the same kind of short stories before the feeling yes dorothy i know the drill now overtakes everything this collected dorothy parker could have been a little less collected and have left some of those short stories out just so the leftovers could be appreciated more however i absolutely adored the reviews and will probably come back to those again in the future brutally honest a bit savage even here and there but therefore absolutely enjoyable\n",
      "##############################\n",
      "a young woman embraces her power and her destiny as the thrilling quest begun in the naming continuesmaerad is a girl with a tragic and bitter past but her powers grow stronger by the day now she and her mentor cadvan hunted by both the light and the dark must unravel the riddle of the treesong before their fractured kingdom erupts in chaos the quest leads maerad over terrifying seas and vast stretches of glacial wilderness ever closer to the seductive winterking ally of her most powerful enemy the nameless one trapped in the winterkings icy realm maerad must confront what she has suspected all along that she is the greatest riddle of all a sequel to the naming this second book in a captivating quartet about the ancient world of edilamarandh is a sweeping epic readers will not soon forget\n",
      "##############################\n",
      "i really want to give this book 35 stars but it just does not make it to 4 i appreciate the fact that the characterizations were stronger and more clear in this book than in the earlier volumes but the plot was just lacking as an epic journey saga croggon let large portions of the book be carried merely by the characters traveling from one place to another which was the case to some extent in her earlier books i admit and it just got a little boringi thought the wrapping up of the treesong was fascinating and welldone though as the defeat of the nameless one it was kind of anticlimatic overall this book was more positive and optimistic than the others and i think it is a good ending to the series i especially loved the relationships that grew out of these final weeks of the sagamy major complaint however is the way in which maerad comes into her elemental powers i will not pretend to know what the heck croggon was trying to say but i do not like how she said it i think the greatest beauty of fantasy fiction is to highlight the real powers of the heart and mind and teach us through allegory the value of truth light loyalty and courage maerads experience has nothing to teach me nothing i want to learn anyway it was very discouragingid still recommend it to those reading through the series or other big fantasy fans just do not expect to be inspired by it\n",
      "##############################\n",
      "i do not normally like cyberpunk and given the choice i never would have picked this up but a book club chose it so i had to read it and then i actuallyliked it i cannot even put my finger on what exactly i liked about it it was a romp through space without a storyline the characters did not do anything meaningful or memorable i just enjoyed myselfit vaguely reminded me of the culture series by iain m banks if you are looking for something to fill the banks shaped hole in your life maybe this would be a good thing to pick up\n"
     ]
    }
   ],
   "source": [
    "# Check Some of reviews\n",
    "print(book_df['reviews'][5])\n",
    "print(\"#\"*30)\n",
    "print(book_df['reviews'][50])\n",
    "print(\"#\"*30)\n",
    "print(book_df['reviews'][100])\n",
    "print(\"#\"*30)\n",
    "print(book_df['reviews'][500])\n",
    "print(\"#\"*30)\n",
    "print(book_df['reviews'][1000])"
   ]
  },
  {
   "cell_type": "code",
   "execution_count": 12,
   "id": "ae337cc9-79bb-46fc-a4e4-1d1e4dff1771",
   "metadata": {},
   "outputs": [
    {
     "data": {
      "text/html": [
       "<div>\n",
       "<style scoped>\n",
       "    .dataframe tbody tr th:only-of-type {\n",
       "        vertical-align: middle;\n",
       "    }\n",
       "\n",
       "    .dataframe tbody tr th {\n",
       "        vertical-align: top;\n",
       "    }\n",
       "\n",
       "    .dataframe thead th {\n",
       "        text-align: right;\n",
       "    }\n",
       "</style>\n",
       "<table border=\"1\" class=\"dataframe\">\n",
       "  <thead>\n",
       "    <tr style=\"text-align: right;\">\n",
       "      <th></th>\n",
       "      <th>ratings</th>\n",
       "      <th>reviews</th>\n",
       "      <th>review_len</th>\n",
       "      <th>total_words</th>\n",
       "    </tr>\n",
       "  </thead>\n",
       "  <tbody>\n",
       "    <tr>\n",
       "      <th>0</th>\n",
       "      <td>5</td>\n",
       "      <td>when jennifer a college student returns to her...</td>\n",
       "      <td>234</td>\n",
       "      <td>44</td>\n",
       "    </tr>\n",
       "    <tr>\n",
       "      <th>1</th>\n",
       "      <td>5</td>\n",
       "      <td>growing up in the appalachian mountains of sou...</td>\n",
       "      <td>1843</td>\n",
       "      <td>328</td>\n",
       "    </tr>\n",
       "    <tr>\n",
       "      <th>2</th>\n",
       "      <td>5</td>\n",
       "      <td>the heat is lifting some now so a little wind ...</td>\n",
       "      <td>4016</td>\n",
       "      <td>746</td>\n",
       "    </tr>\n",
       "    <tr>\n",
       "      <th>3</th>\n",
       "      <td>5</td>\n",
       "      <td>when i was growing up all family history was o...</td>\n",
       "      <td>2106</td>\n",
       "      <td>400</td>\n",
       "    </tr>\n",
       "    <tr>\n",
       "      <th>4</th>\n",
       "      <td>5</td>\n",
       "      <td>this is a story about five generations of the ...</td>\n",
       "      <td>3962</td>\n",
       "      <td>710</td>\n",
       "    </tr>\n",
       "  </tbody>\n",
       "</table>\n",
       "</div>"
      ],
      "text/plain": [
       "   ratings                                            reviews  review_len  \\\n",
       "0        5  when jennifer a college student returns to her...         234   \n",
       "1        5  growing up in the appalachian mountains of sou...        1843   \n",
       "2        5  the heat is lifting some now so a little wind ...        4016   \n",
       "3        5  when i was growing up all family history was o...        2106   \n",
       "4        5  this is a story about five generations of the ...        3962   \n",
       "\n",
       "   total_words  \n",
       "0           44  \n",
       "1          328  \n",
       "2          746  \n",
       "3          400  \n",
       "4          710  "
      ]
     },
     "execution_count": 12,
     "metadata": {},
     "output_type": "execute_result"
    }
   ],
   "source": [
    "book_df.head()"
   ]
  },
  {
   "cell_type": "code",
   "execution_count": 13,
   "id": "c5ebfad7-c463-42b4-9185-d5179c278dab",
   "metadata": {},
   "outputs": [
    {
     "data": {
      "image/png": "[encoded data removed]",
      "text/plain": [
       "<Figure size 640x480 with 1 Axes>"
      ]
     },
     "metadata": {},
     "output_type": "display_data"
    }
   ],
   "source": [
    "#Checking distrubution of reviews length\n",
    "sns.histplot(book_df['review_len'],color='red',kde=True)\n",
    "plt.grid(False)\n",
    "plt.show()"
   ]
  },
  {
   "cell_type": "code",
   "execution_count": 14,
   "id": "8095595c-80c4-4ca7-964e-4043b1e08094",
   "metadata": {},
   "outputs": [],
   "source": [
    "indexes = book_df[book_df['review_len']<10].index"
   ]
  },
  {
   "cell_type": "code",
   "execution_count": 15,
   "id": "c79ee031-fb26-4621-a087-f51d895b5e46",
   "metadata": {},
   "outputs": [],
   "source": [
    "book_df.drop(indexes,axis=0,inplace=True)"
   ]
  },
  {
   "cell_type": "code",
   "execution_count": 16,
   "id": "7cfcf9ab-0c4f-4586-ad04-cda43518e63e",
   "metadata": {},
   "outputs": [
    {
     "data": {
      "image/png": "[encoded data removed]",
      "text/plain": [
       "<Figure size 640x480 with 1 Axes>"
      ]
     },
     "metadata": {},
     "output_type": "display_data"
    }
   ],
   "source": [
    "#Checking distrubution of total words\n",
    "sns.histplot(book_df['total_words'],color='red',kde=True)\n",
    "plt.grid(False)\n",
    "plt.show()"
   ]
  },
  {
   "cell_type": "code",
   "execution_count": 17,
   "id": "b144bee1-1f97-49e2-966b-c60aa330f269",
   "metadata": {},
   "outputs": [],
   "source": [
    "from sklearn.feature_extraction.text import TfidfVectorizer\n",
    "from sklearn.naive_bayes import MultinomialNB\n",
    "from sklearn.metrics import confusion_matrix,accuracy_score"
   ]
  },
  {
   "cell_type": "code",
   "execution_count": 18,
   "id": "4406ce29-2274-40d8-872c-faed6f85acdd",
   "metadata": {},
   "outputs": [
    {
     "data": {
      "text/plain": [
       "array([5, 2, 4, 3, 1], dtype=int64)"
      ]
     },
     "execution_count": 18,
     "metadata": {},
     "output_type": "execute_result"
    }
   ],
   "source": [
    "# checking categories of dataset\n",
    "book_df['ratings'].unique()"
   ]
  },
  {
   "cell_type": "code",
   "execution_count": 19,
   "id": "0ae157f4-cfda-4e9d-b88b-9dea385c192a",
   "metadata": {},
   "outputs": [],
   "source": [
    "from langdetect import detect\n",
    "\n",
    "def is_english(text):\n",
    "    try:\n",
    "        return detect(text) == 'en'\n",
    "    except:\n",
    "        return False"
   ]
  },
  {
   "cell_type": "code",
   "execution_count": 20,
   "id": "0178a935-789d-45a0-b209-7b19a9920d9e",
   "metadata": {},
   "outputs": [],
   "source": [
    "status = []\n",
    "for i in book_df['reviews']:\n",
    "    status.append(is_english(i))"
   ]
  },
  {
   "cell_type": "code",
   "execution_count": 21,
   "id": "76f660fc-9c93-4d02-8214-7d0083f37075",
   "metadata": {},
   "outputs": [],
   "source": [
    "book_df['english_status'] = status"
   ]
  },
  {
   "cell_type": "code",
   "execution_count": 22,
   "id": "be25d21c-dab3-4897-9f33-9d5f37edbcbb",
   "metadata": {},
   "outputs": [
    {
     "data": {
      "text/plain": [
       "dtype('bool')"
      ]
     },
     "execution_count": 22,
     "metadata": {},
     "output_type": "execute_result"
    }
   ],
   "source": [
    "book_df['english_status'].dtype"
   ]
  },
  {
   "cell_type": "code",
   "execution_count": 23,
   "id": "8aec1aa4-2f63-4f82-9f88-fafce6016ac0",
   "metadata": {},
   "outputs": [],
   "source": [
    "false_indexes = book_df[book_df['english_status']==False].index"
   ]
  },
  {
   "cell_type": "code",
   "execution_count": 24,
   "id": "40e28ebb-4437-42e5-ba44-53562cff7828",
   "metadata": {},
   "outputs": [],
   "source": [
    "book_df.drop(false_indexes,axis=0,inplace=True)"
   ]
  },
  {
   "cell_type": "code",
   "execution_count": 25,
   "id": "b4be683b-a3b5-4f32-a5cb-fc5e072f48b2",
   "metadata": {},
   "outputs": [
    {
     "data": {
      "text/plain": [
       "ratings\n",
       "5    25314\n",
       "4    17737\n",
       "3     6517\n",
       "1     4881\n",
       "2     4716\n",
       "Name: count, dtype: int64"
      ]
     },
     "execution_count": 25,
     "metadata": {},
     "output_type": "execute_result"
    }
   ],
   "source": [
    "# Checking data imbalance\n",
    "book_df['ratings'].value_counts()"
   ]
  },
  {
   "cell_type": "code",
   "execution_count": 26,
   "id": "0aa5d0cb-808d-4883-9549-06269245ede9",
   "metadata": {},
   "outputs": [],
   "source": [
    "# since data is imbalance, hence, splitting ham and spam seperately to make balance data\n",
    "rating_5 = book_df[book_df['ratings']==5]\n",
    "rating_4 = book_df[book_df['ratings']==4]\n",
    "rating_3 = book_df[book_df['ratings']==3]\n",
    "rating_2 = book_df[book_df['ratings']==2]\n",
    "rating_1 = book_df[book_df['ratings']==1]"
   ]
  },
  {
   "cell_type": "code",
   "execution_count": 27,
   "id": "7b18f5e0-6550-424d-8075-3d2207a7a7f7",
   "metadata": {},
   "outputs": [
    {
     "name": "stdout",
     "output_type": "stream",
     "text": [
      "(25314, 5) (17737, 5) (6517, 5) (4716, 5) (4881, 5)\n"
     ]
    }
   ],
   "source": [
    "print(rating_5.shape,rating_4.shape,rating_3.shape,rating_2.shape,rating_1.shape)"
   ]
  },
  {
   "cell_type": "code",
   "execution_count": 28,
   "id": "8a80a206-d7bc-4d8d-a283-1506eb0149ff",
   "metadata": {},
   "outputs": [],
   "source": [
    "rating_4 = rating_4.sample(rating_5.shape[0], replace=True)\n",
    "rating_3 = rating_3.sample(rating_5.shape[0], replace=True)\n",
    "rating_2 = rating_2.sample(rating_5.shape[0], replace=True)\n",
    "rating_1 = rating_1.sample(rating_5.shape[0], replace=True)"
   ]
  },
  {
   "cell_type": "code",
   "execution_count": 29,
   "id": "14d81386-fcd1-4cbf-a9fa-bc44a78dc460",
   "metadata": {},
   "outputs": [
    {
     "name": "stdout",
     "output_type": "stream",
     "text": [
      "(25314, 5) (25314, 5) (25314, 5) (25314, 5) (25314, 5)\n"
     ]
    }
   ],
   "source": [
    "print(rating_5.shape,rating_4.shape,rating_3.shape,rating_2.shape,rating_1.shape)"
   ]
  },
  {
   "cell_type": "code",
   "execution_count": 30,
   "id": "c9490165-5e0c-444c-a756-4c908475f613",
   "metadata": {},
   "outputs": [],
   "source": [
    "# Concatenate the DataFrames vertically in the specified order\n",
    "book_df = pd.concat([rating_5, rating_4, rating_3, rating_2, rating_1], ignore_index=True)"
   ]
  },
  {
   "cell_type": "code",
   "execution_count": 31,
   "id": "4192b4e3-f2c0-4c03-aad1-595ed8515109",
   "metadata": {},
   "outputs": [
    {
     "data": {
      "text/plain": [
       "(126570, 5)"
      ]
     },
     "execution_count": 31,
     "metadata": {},
     "output_type": "execute_result"
    }
   ],
   "source": [
    "book_df.shape"
   ]
  },
  {
   "cell_type": "code",
   "execution_count": 32,
   "id": "6b39ab5f-f40e-49d3-b33b-62ca7ba66430",
   "metadata": {},
   "outputs": [],
   "source": [
    "#Splitting data into dependent and indepent variable\n",
    "x = book_df['reviews']\n",
    "y = book_df['ratings']"
   ]
  },
  {
   "cell_type": "code",
   "execution_count": 33,
   "id": "8ec72a70-145f-4751-b5ca-c8b3158b19cd",
   "metadata": {},
   "outputs": [
    {
     "data": {
      "text/plain": [
       "0    when jennifer a college student returns to her...\n",
       "1    growing up in the appalachian mountains of sou...\n",
       "2    the heat is lifting some now so a little wind ...\n",
       "3    when i was growing up all family history was o...\n",
       "4    this is a story about five generations of the ...\n",
       "Name: reviews, dtype: object"
      ]
     },
     "execution_count": 33,
     "metadata": {},
     "output_type": "execute_result"
    }
   ],
   "source": [
    "x.head()"
   ]
  },
  {
   "cell_type": "code",
   "execution_count": 34,
   "id": "a252032e-b4af-404d-9cda-bbd8f67581cd",
   "metadata": {},
   "outputs": [
    {
     "data": {
      "text/plain": [
       "0    5\n",
       "1    5\n",
       "2    5\n",
       "3    5\n",
       "4    5\n",
       "Name: ratings, dtype: int64"
      ]
     },
     "execution_count": 34,
     "metadata": {},
     "output_type": "execute_result"
    }
   ],
   "source": [
    "y.head()"
   ]
  },
  {
   "cell_type": "code",
   "execution_count": 35,
   "id": "d236c1a8-a57c-4fc0-bd43-326a2f742084",
   "metadata": {},
   "outputs": [],
   "source": [
    "from nltk.corpus import stopwords\n",
    "# Get NLTK's English stop words\n",
    "nltk_stop_words = stopwords.words('english')"
   ]
  },
  {
   "cell_type": "code",
   "execution_count": 36,
   "id": "318db719-dc55-4d29-9fd6-16e01aa78efb",
   "metadata": {},
   "outputs": [],
   "source": [
    "# Preprocess the text data using TF-IDF vectorization\n",
    "tfidf_vectorizer = TfidfVectorizer(stop_words=nltk_stop_words)  # Adjust max_features as needed\n",
    "x_tfidf = tfidf_vectorizer.fit_transform(x)"
   ]
  },
  {
   "cell_type": "code",
   "execution_count": 37,
   "id": "366475bd-a9f0-4201-9ce0-61605172bae9",
   "metadata": {},
   "outputs": [
    {
     "data": {
      "text/plain": [
       "<126570x300922 sparse matrix of type '<class 'numpy.float64'>'\n",
       "\twith 14944864 stored elements in Compressed Sparse Row format>"
      ]
     },
     "execution_count": 37,
     "metadata": {},
     "output_type": "execute_result"
    }
   ],
   "source": [
    "x_tfidf"
   ]
  },
  {
   "cell_type": "code",
   "execution_count": 38,
   "id": "7d98c876-5779-406f-9d12-7a23c0ef71f1",
   "metadata": {},
   "outputs": [],
   "source": [
    "# Train and test split\n",
    "from sklearn.model_selection import train_test_split\n",
    "x_train,x_test,y_train,y_test = train_test_split(x_tfidf,y,train_size=.80,stratify=y,random_state=121)"
   ]
  },
  {
   "cell_type": "markdown",
   "id": "4c59cbdd-9920-4410-9988-822a6fc8227e",
   "metadata": {},
   "source": [
    "## Naive Bayes Model "
   ]
  },
  {
   "cell_type": "code",
   "execution_count": 48,
   "id": "4238bbc6-ab62-4c22-b1f3-6425803f4954",
   "metadata": {},
   "outputs": [],
   "source": [
    "# Model building Naive Bayes\n",
    "model = MultinomialNB()\n",
    "# Training the model with the training data\n",
    "model.fit(x_train, y_train)\n",
    "# Predicting the test data categories\n",
    "predicted_categories = model.predict(x_test)"
   ]
  },
  {
   "cell_type": "code",
   "execution_count": 49,
   "id": "bd7d8fff-147c-4212-b12f-474f33c4f339",
   "metadata": {},
   "outputs": [
    {
     "data": {
      "image/png": "[encoded data removed]",
      "text/plain": [
       "<Figure size 640x480 with 2 Axes>"
      ]
     },
     "metadata": {},
     "output_type": "display_data"
    }
   ],
   "source": [
    "from sklearn.metrics import confusion_matrix\n",
    "from sklearn.metrics import ConfusionMatrixDisplay\n",
    "\n",
    "# Assuming predicted_categories are the predicted labels for x_test\n",
    "confusion = confusion_matrix(y_test, predicted_categories)\n",
    "\n",
    "class_names = np.unique(np.concatenate((y_test, predicted_categories), axis=0))\n",
    "\n",
    "disp = ConfusionMatrixDisplay(confusion_matrix=confusion, display_labels=class_names)\n",
    "disp.plot(cmap=plt.cm.Blues)\n",
    "plt.title(\"Confusion Matrix\")\n",
    "plt.show()"
   ]
  },
  {
   "cell_type": "code",
   "execution_count": 50,
   "id": "f1944813-dbef-4442-9f71-816165d36095",
   "metadata": {},
   "outputs": [
    {
     "name": "stdout",
     "output_type": "stream",
     "text": [
      "Accuracy: 0.8061546970056096\n"
     ]
    }
   ],
   "source": [
    "accuracy = accuracy_score(y_test, predicted_categories)\n",
    "print(\"Accuracy:\", accuracy)"
   ]
  },
  {
   "cell_type": "markdown",
   "id": "7767144c-c4f4-4594-98bb-5b0487dde3c3",
   "metadata": {},
   "source": [
    "## Logistic Regression Model"
   ]
  },
  {
   "cell_type": "code",
   "execution_count": 101,
   "id": "74092b38-d83d-4ad5-b7f6-73a0c8c771f7",
   "metadata": {},
   "outputs": [],
   "source": [
    "#Model Building Logistic Regression\n",
    "from sklearn.linear_model import LogisticRegression\n",
    "model_1 = LogisticRegression(multi_class='multinomial', solver='saga', penalty='l2', C=10)\n",
    "# Training Model with training data \n",
    "model_1.fit(x_train,y_train)\n",
    "# Predicting the test data categories\n",
    "pred = model_1.predict(x_test)"
   ]
  },
  {
   "cell_type": "code",
   "execution_count": 102,
   "id": "6d3f9fbb-6199-4801-b5e0-3ed39a84fe86",
   "metadata": {},
   "outputs": [
    {
     "data": {
      "image/png": "[encoded data removed]",
      "text/plain": [
       "<Figure size 640x480 with 2 Axes>"
      ]
     },
     "metadata": {},
     "output_type": "display_data"
    }
   ],
   "source": [
    "from sklearn.metrics import confusion_matrix\n",
    "from sklearn.metrics import ConfusionMatrixDisplay\n",
    "\n",
    "# Assuming predicted_categories are the predicted labels for x_test\n",
    "confusion = confusion_matrix(y_test, pred)\n",
    "\n",
    "class_names = np.unique(np.concatenate((y_test, pred), axis=0))\n",
    "\n",
    "disp = ConfusionMatrixDisplay(confusion_matrix=confusion, display_labels=class_names)\n",
    "disp.plot(cmap=plt.cm.Blues)\n",
    "plt.title(\"Confusion Matrix\")\n",
    "plt.show()"
   ]
  },
  {
   "cell_type": "code",
   "execution_count": 103,
   "id": "538a2345-c120-4dbe-b35b-f6168fb70485",
   "metadata": {},
   "outputs": [
    {
     "name": "stdout",
     "output_type": "stream",
     "text": [
      "Accuracy: 0.9236785968238919\n"
     ]
    }
   ],
   "source": [
    "accuracy = accuracy_score(y_test, pred)\n",
    "print(\"Accuracy:\", accuracy)"
   ]
  }
 ],
 "metadata": {
  "kernelspec": {
   "display_name": "Python 3 (ipykernel)",
   "language": "python",
   "name": "python3"
  },
  "language_info": {
   "codemirror_mode": {
    "name": "ipython",
    "version": 3
   },
   "file_extension": ".py",
   "mimetype": "text/x-python",
   "name": "python",
   "nbconvert_exporter": "python",
   "pygments_lexer": "ipython3",
   "version": "3.11.4"
  }
 },
 "nbformat": 4,
 "nbformat_minor": 5
}
