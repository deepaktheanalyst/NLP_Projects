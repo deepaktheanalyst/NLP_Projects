{
 "cells": [
  {
   "cell_type": "code",
   "execution_count": 1,
   "id": "6eddf552",
   "metadata": {},
   "outputs": [
    {
     "name": "stdout",
     "output_type": "stream",
     "text": [
      "Using TensorFlow version 2.13.0\n"
     ]
    }
   ],
   "source": [
    "%matplotlib inline\n",
    "\n",
    "import tensorflow as tf\n",
    "import numpy as np\n",
    "import matplotlib.pyplot as plt\n",
    "import nlp\n",
    "import random\n",
    "\n",
    "\n",
    "def show_history(h):\n",
    "    epochs_trained = len(h.history['loss'])\n",
    "    plt.figure(figsize=(16, 6))\n",
    "\n",
    "    plt.subplot(1, 2, 1)\n",
    "    plt.plot(range(0, epochs_trained), h.history.get('accuracy'), label='Training')\n",
    "    plt.plot(range(0, epochs_trained), h.history.get('val_accuracy'), label='Validation')\n",
    "    plt.ylim([0., 1.])\n",
    "    plt.xlabel('Epochs')\n",
    "    plt.ylabel('Accuracy')\n",
    "    plt.legend()\n",
    "\n",
    "    plt.subplot(1, 2, 2)\n",
    "    plt.plot(range(0, epochs_trained), h.history.get('loss'), label='Training')\n",
    "    plt.plot(range(0, epochs_trained), h.history.get('val_loss'), label='Validation')\n",
    "    plt.xlabel('Epochs')\n",
    "    plt.ylabel('Loss')\n",
    "    plt.legend()\n",
    "    plt.show()\n",
    "\n",
    "\n",
    "def show_confusion_matrix(y_true, y_pred, classes):\n",
    "    from sklearn.metrics import confusion_matrix\n",
    "\n",
    "    cm = confusion_matrix(y_true, y_pred, normalize='true')\n",
    "\n",
    "    plt.figure(figsize=(8, 8))\n",
    "    sp = plt.subplot(1, 1, 1)\n",
    "    ctx = sp.matshow(cm)\n",
    "    plt.xticks(list(range(0, 6)), labels=classes)\n",
    "    plt.yticks(list(range(0, 6)), labels=classes)\n",
    "    plt.colorbar(ctx)\n",
    "    plt.show()\n",
    "\n",
    "\n",
    "print('Using TensorFlow version', tf.__version__)"
   ]
  },
  {
   "cell_type": "code",
   "execution_count": 75,
   "id": "7b17ede8",
   "metadata": {},
   "outputs": [
    {
     "data": {
      "text/html": [
       "<div>\n",
       "<style scoped>\n",
       "    .dataframe tbody tr th:only-of-type {\n",
       "        vertical-align: middle;\n",
       "    }\n",
       "\n",
       "    .dataframe tbody tr th {\n",
       "        vertical-align: top;\n",
       "    }\n",
       "\n",
       "    .dataframe thead th {\n",
       "        text-align: right;\n",
       "    }\n",
       "</style>\n",
       "<table border=\"1\" class=\"dataframe\">\n",
       "  <thead>\n",
       "    <tr style=\"text-align: right;\">\n",
       "      <th></th>\n",
       "      <th>tweets</th>\n",
       "      <th>labels</th>\n",
       "    </tr>\n",
       "  </thead>\n",
       "  <tbody>\n",
       "    <tr>\n",
       "      <th>0</th>\n",
       "      <td>i didnt feel humiliated</td>\n",
       "      <td>sadness</td>\n",
       "    </tr>\n",
       "    <tr>\n",
       "      <th>1</th>\n",
       "      <td>i can go from feeling so hopeless to so damned...</td>\n",
       "      <td>sadness</td>\n",
       "    </tr>\n",
       "    <tr>\n",
       "      <th>2</th>\n",
       "      <td>im grabbing a minute to post i feel greedy wrong</td>\n",
       "      <td>anger</td>\n",
       "    </tr>\n",
       "    <tr>\n",
       "      <th>3</th>\n",
       "      <td>i am ever feeling nostalgic about the fireplac...</td>\n",
       "      <td>love</td>\n",
       "    </tr>\n",
       "    <tr>\n",
       "      <th>4</th>\n",
       "      <td>i am feeling grouchy</td>\n",
       "      <td>anger</td>\n",
       "    </tr>\n",
       "  </tbody>\n",
       "</table>\n",
       "</div>"
      ],
      "text/plain": [
       "                                              tweets   labels\n",
       "0                            i didnt feel humiliated  sadness\n",
       "1  i can go from feeling so hopeless to so damned...  sadness\n",
       "2   im grabbing a minute to post i feel greedy wrong    anger\n",
       "3  i am ever feeling nostalgic about the fireplac...     love\n",
       "4                               i am feeling grouchy    anger"
      ]
     },
     "execution_count": 75,
     "metadata": {},
     "output_type": "execute_result"
    }
   ],
   "source": [
    "train = pd.read_csv(r\"D:\\emotion_dataset\\archive (1)\\train.txt\",header=None,sep=';',names=['tweets','labels'])\n",
    "train.head()"
   ]
  },
  {
   "cell_type": "markdown",
   "id": "d1403b0f",
   "metadata": {},
   "source": [
    "## Tokenisation"
   ]
  },
  {
   "cell_type": "code",
   "execution_count": 76,
   "id": "70532bf6",
   "metadata": {},
   "outputs": [],
   "source": [
    "from tensorflow.keras.preprocessing.text import Tokenizer"
   ]
  },
  {
   "cell_type": "code",
   "execution_count": 77,
   "id": "7d58fa29",
   "metadata": {},
   "outputs": [],
   "source": [
    "tokenizer = Tokenizer(num_words=10000, oov_token='<UNK>')\n",
    "tokenizer.fit_on_texts(train['tweets'])"
   ]
  },
  {
   "cell_type": "code",
   "execution_count": 92,
   "id": "d23fac93",
   "metadata": {},
   "outputs": [
    {
     "data": {
      "text/plain": [
       "[[2, 139, 3, 679]]"
      ]
     },
     "execution_count": 92,
     "metadata": {},
     "output_type": "execute_result"
    }
   ],
   "source": [
    "tokenizer.texts_to_sequences([train['tweets'][0]])"
   ]
  },
  {
   "cell_type": "markdown",
   "id": "95272de3",
   "metadata": {},
   "source": [
    "## Padding and Truncating Sequences\n",
    "1. Checking length of the tweets\n",
    "2. Creating padded sequences"
   ]
  },
  {
   "cell_type": "code",
   "execution_count": 93,
   "id": "025fa5f2",
   "metadata": {},
   "outputs": [
    {
     "data": {
      "image/png": "[encoded data removed]",
      "text/plain": [
       "<Figure size 640x480 with 1 Axes>"
      ]
     },
     "metadata": {},
     "output_type": "display_data"
    }
   ],
   "source": [
    "lengths = [len(t.split(' ')) for t in train['tweets']]\n",
    "plt.hist(lengths, bins = len(set(lengths)))\n",
    "plt.show()"
   ]
  },
  {
   "cell_type": "code",
   "execution_count": 94,
   "id": "bb2cbb3b",
   "metadata": {},
   "outputs": [],
   "source": [
    "max_len = 50\n",
    "\n",
    "from tensorflow.keras.preprocessing.sequence import pad_sequences"
   ]
  },
  {
   "cell_type": "code",
   "execution_count": 97,
   "id": "a64499eb",
   "metadata": {},
   "outputs": [],
   "source": [
    "def get_sequences(tokenizer, tweets):\n",
    "    sequences = tokenizer.texts_to_sequences(tweets)\n",
    "    padded = pad_sequences(sequences, truncating='post', padding='post', maxlen=max_len)\n",
    "    return padded"
   ]
  },
  {
   "cell_type": "code",
   "execution_count": 98,
   "id": "91a59755",
   "metadata": {},
   "outputs": [],
   "source": [
    "padded_train_seq = get_sequences(tokenizer,train['tweets'])"
   ]
  },
  {
   "cell_type": "code",
   "execution_count": 99,
   "id": "07699695",
   "metadata": {},
   "outputs": [
    {
     "data": {
      "text/plain": [
       "array([  2, 139,   3, 679,   0,   0,   0,   0,   0,   0,   0,   0,   0,\n",
       "         0,   0,   0,   0,   0,   0,   0,   0,   0,   0,   0,   0,   0,\n",
       "         0,   0,   0,   0,   0,   0,   0,   0,   0,   0,   0,   0,   0,\n",
       "         0,   0,   0,   0,   0,   0,   0,   0,   0,   0,   0])"
      ]
     },
     "execution_count": 99,
     "metadata": {},
     "output_type": "execute_result"
    }
   ],
   "source": [
    "padded_train_seq[0]"
   ]
  },
  {
   "cell_type": "markdown",
   "id": "5d738cd2",
   "metadata": {},
   "source": [
    "## Preparing the labels\n",
    "1. Creating classes to index and index to classes dictionaries\n",
    "2. Converting text labels to numeric labels"
   ]
  },
  {
   "cell_type": "code",
   "execution_count": 100,
   "id": "1ca7b2b2",
   "metadata": {},
   "outputs": [
    {
     "data": {
      "text/plain": [
       "{'anger', 'fear', 'joy', 'love', 'sadness', 'surprise'}"
      ]
     },
     "execution_count": 100,
     "metadata": {},
     "output_type": "execute_result"
    }
   ],
   "source": [
    "classes = set(train['labels'])\n",
    "classes"
   ]
  },
  {
   "cell_type": "code",
   "execution_count": 101,
   "id": "a181e23d",
   "metadata": {},
   "outputs": [
    {
     "data": {
      "image/png": "[encoded data removed]",
      "text/plain": [
       "<Figure size 640x480 with 1 Axes>"
      ]
     },
     "metadata": {},
     "output_type": "display_data"
    }
   ],
   "source": [
    "plt.hist(train['labels'], bins=11)\n",
    "plt.show()"
   ]
  },
  {
   "cell_type": "code",
   "execution_count": 102,
   "id": "81d38740",
   "metadata": {},
   "outputs": [],
   "source": [
    "class_to_index = dict((c,i) for i,c in enumerate(classes))\n",
    "index_to_class = dict((v,k) for k, v in class_to_index.items())"
   ]
  },
  {
   "cell_type": "code",
   "execution_count": 103,
   "id": "9cee4e1f",
   "metadata": {},
   "outputs": [
    {
     "data": {
      "text/plain": [
       "{'sadness': 0, 'love': 1, 'surprise': 2, 'anger': 3, 'joy': 4, 'fear': 5}"
      ]
     },
     "execution_count": 103,
     "metadata": {},
     "output_type": "execute_result"
    }
   ],
   "source": [
    "class_to_index"
   ]
  },
  {
   "cell_type": "code",
   "execution_count": 104,
   "id": "4562302a",
   "metadata": {},
   "outputs": [
    {
     "data": {
      "text/plain": [
       "{0: 'sadness', 1: 'love', 2: 'surprise', 3: 'anger', 4: 'joy', 5: 'fear'}"
      ]
     },
     "execution_count": 104,
     "metadata": {},
     "output_type": "execute_result"
    }
   ],
   "source": [
    "index_to_class"
   ]
  },
  {
   "cell_type": "code",
   "execution_count": 105,
   "id": "f9b1e061",
   "metadata": {},
   "outputs": [],
   "source": [
    "names_to_ids = lambda labels: np.array([class_to_index.get(x) for x in labels])"
   ]
  },
  {
   "cell_type": "code",
   "execution_count": 106,
   "id": "23b4c943",
   "metadata": {},
   "outputs": [
    {
     "name": "stdout",
     "output_type": "stream",
     "text": [
      "0\n"
     ]
    }
   ],
   "source": [
    "train_labels = names_to_ids(train['labels'])\n",
    "print(train_labels[0])"
   ]
  },
  {
   "cell_type": "markdown",
   "id": "0e11421d",
   "metadata": {},
   "source": [
    "## Creating the Model\n",
    "1. Creating the model\n",
    "2. Compiling the model"
   ]
  },
  {
   "cell_type": "code",
   "execution_count": 109,
   "id": "b9e2b960",
   "metadata": {},
   "outputs": [],
   "source": [
    "model = tf.keras.models.Sequential([\n",
    "    tf.keras.layers.Embedding(10000,16,input_length=max_len),\n",
    "    tf.keras.layers.Bidirectional(tf.keras.layers.LSTM(20, return_sequences=True)),\n",
    "    tf.keras.layers.Bidirectional(tf.keras.layers.LSTM(20)),\n",
    "    tf.keras.layers.Dense(6, activation='softmax')\n",
    "])\n",
    "\n",
    "model.compile(\n",
    "\n",
    "    loss = 'sparse_categorical_crossentropy',\n",
    "    optimizer = 'adam',\n",
    "    metrics = ['accuracy']\n",
    "\n",
    ")"
   ]
  },
  {
   "cell_type": "code",
   "execution_count": 110,
   "id": "2baf2adc",
   "metadata": {},
   "outputs": [
    {
     "name": "stdout",
     "output_type": "stream",
     "text": [
      "Model: \"sequential\"\n",
      "_________________________________________________________________\n",
      " Layer (type)                Output Shape              Param #   \n",
      "=================================================================\n",
      " embedding (Embedding)       (None, 50, 16)            160000    \n",
      "                                                                 \n",
      " bidirectional (Bidirection  (None, 50, 40)            5920      \n",
      " al)                                                             \n",
      "                                                                 \n",
      " bidirectional_1 (Bidirecti  (None, 40)                9760      \n",
      " onal)                                                           \n",
      "                                                                 \n",
      " dense (Dense)               (None, 6)                 246       \n",
      "                                                                 \n",
      "=================================================================\n",
      "Total params: 175926 (687.21 KB)\n",
      "Trainable params: 175926 (687.21 KB)\n",
      "Non-trainable params: 0 (0.00 Byte)\n",
      "_________________________________________________________________\n"
     ]
    }
   ],
   "source": [
    "model.summary()"
   ]
  },
  {
   "cell_type": "markdown",
   "id": "409a2c84",
   "metadata": {},
   "source": [
    "## Training the Model\n",
    "1. Preparing a validation set\n",
    "2. Training the model"
   ]
  },
  {
   "cell_type": "code",
   "execution_count": 112,
   "id": "88ee6f21",
   "metadata": {},
   "outputs": [],
   "source": [
    "val = pd.read_csv(r\"D:\\emotion_dataset\\archive (1)\\val.txt\",header=None,sep=';',names=['tweets','labels'])"
   ]
  },
  {
   "cell_type": "code",
   "execution_count": 113,
   "id": "f28612ad",
   "metadata": {},
   "outputs": [],
   "source": [
    "val_seq = get_sequences(tokenizer,val['tweets'])\n",
    "val_labels = names_to_ids(val['labels'])"
   ]
  },
  {
   "cell_type": "code",
   "execution_count": 114,
   "id": "10ec0909",
   "metadata": {},
   "outputs": [
    {
     "name": "stdout",
     "output_type": "stream",
     "text": [
      "Epoch 1/20\n",
      "500/500 [==============================] - ETA: 0s - loss: 1.2343 - accuracy: 0.5018WARNING:tensorflow:Early stopping conditioned on metric `val_accuray` which is not available. Available metrics are: loss,accuracy,val_loss,val_accuracy\n",
      "500/500 [==============================] - 21s 31ms/step - loss: 1.2343 - accuracy: 0.5018 - val_loss: 0.7210 - val_accuracy: 0.7255\n",
      "Epoch 2/20\n",
      "499/500 [============================>.] - ETA: 0s - loss: 0.5420 - accuracy: 0.7654WARNING:tensorflow:Early stopping conditioned on metric `val_accuray` which is not available. Available metrics are: loss,accuracy,val_loss,val_accuracy\n",
      "500/500 [==============================] - 17s 34ms/step - loss: 0.5420 - accuracy: 0.7653 - val_loss: 0.5610 - val_accuracy: 0.7745\n",
      "Epoch 3/20\n",
      "500/500 [==============================] - ETA: 0s - loss: 0.3884 - accuracy: 0.8295WARNING:tensorflow:Early stopping conditioned on metric `val_accuray` which is not available. Available metrics are: loss,accuracy,val_loss,val_accuracy\n",
      "500/500 [==============================] - 19s 38ms/step - loss: 0.3884 - accuracy: 0.8295 - val_loss: 0.5495 - val_accuracy: 0.8030\n",
      "Epoch 4/20\n",
      "500/500 [==============================] - ETA: 0s - loss: 0.2674 - accuracy: 0.9105WARNING:tensorflow:Early stopping conditioned on metric `val_accuray` which is not available. Available metrics are: loss,accuracy,val_loss,val_accuracy\n",
      "500/500 [==============================] - 19s 39ms/step - loss: 0.2674 - accuracy: 0.9105 - val_loss: 0.4834 - val_accuracy: 0.8550\n",
      "Epoch 5/20\n",
      "500/500 [==============================] - ETA: 0s - loss: 0.1879 - accuracy: 0.9418WARNING:tensorflow:Early stopping conditioned on metric `val_accuray` which is not available. Available metrics are: loss,accuracy,val_loss,val_accuracy\n",
      "500/500 [==============================] - 21s 41ms/step - loss: 0.1879 - accuracy: 0.9418 - val_loss: 0.4489 - val_accuracy: 0.8620\n",
      "Epoch 6/20\n",
      "500/500 [==============================] - ETA: 0s - loss: 0.1512 - accuracy: 0.9542WARNING:tensorflow:Early stopping conditioned on metric `val_accuray` which is not available. Available metrics are: loss,accuracy,val_loss,val_accuracy\n",
      "500/500 [==============================] - 21s 42ms/step - loss: 0.1512 - accuracy: 0.9542 - val_loss: 0.4507 - val_accuracy: 0.8705\n",
      "Epoch 7/20\n",
      "500/500 [==============================] - ETA: 0s - loss: 0.1162 - accuracy: 0.9641WARNING:tensorflow:Early stopping conditioned on metric `val_accuray` which is not available. Available metrics are: loss,accuracy,val_loss,val_accuracy\n",
      "500/500 [==============================] - 21s 41ms/step - loss: 0.1162 - accuracy: 0.9641 - val_loss: 0.4602 - val_accuracy: 0.8785\n",
      "Epoch 8/20\n",
      "499/500 [============================>.] - ETA: 0s - loss: 0.1043 - accuracy: 0.9679WARNING:tensorflow:Early stopping conditioned on metric `val_accuray` which is not available. Available metrics are: loss,accuracy,val_loss,val_accuracy\n",
      "500/500 [==============================] - 21s 42ms/step - loss: 0.1045 - accuracy: 0.9678 - val_loss: 0.4520 - val_accuracy: 0.8800\n",
      "Epoch 9/20\n",
      "500/500 [==============================] - ETA: 0s - loss: 0.0830 - accuracy: 0.9739WARNING:tensorflow:Early stopping conditioned on metric `val_accuray` which is not available. Available metrics are: loss,accuracy,val_loss,val_accuracy\n",
      "500/500 [==============================] - 20s 39ms/step - loss: 0.0830 - accuracy: 0.9739 - val_loss: 0.5127 - val_accuracy: 0.8735\n",
      "Epoch 10/20\n",
      "499/500 [============================>.] - ETA: 0s - loss: 0.0807 - accuracy: 0.9756WARNING:tensorflow:Early stopping conditioned on metric `val_accuray` which is not available. Available metrics are: loss,accuracy,val_loss,val_accuracy\n",
      "500/500 [==============================] - 20s 40ms/step - loss: 0.0806 - accuracy: 0.9756 - val_loss: 0.4402 - val_accuracy: 0.8795\n",
      "Epoch 11/20\n",
      "499/500 [============================>.] - ETA: 0s - loss: 0.0683 - accuracy: 0.9783WARNING:tensorflow:Early stopping conditioned on metric `val_accuray` which is not available. Available metrics are: loss,accuracy,val_loss,val_accuracy\n",
      "500/500 [==============================] - 20s 40ms/step - loss: 0.0682 - accuracy: 0.9783 - val_loss: 0.4366 - val_accuracy: 0.8860\n",
      "Epoch 12/20\n",
      "500/500 [==============================] - ETA: 0s - loss: 0.0648 - accuracy: 0.9784WARNING:tensorflow:Early stopping conditioned on metric `val_accuray` which is not available. Available metrics are: loss,accuracy,val_loss,val_accuracy\n",
      "500/500 [==============================] - 20s 41ms/step - loss: 0.0648 - accuracy: 0.9784 - val_loss: 0.4728 - val_accuracy: 0.8865\n",
      "Epoch 13/20\n",
      "500/500 [==============================] - ETA: 0s - loss: 0.0622 - accuracy: 0.9800WARNING:tensorflow:Early stopping conditioned on metric `val_accuray` which is not available. Available metrics are: loss,accuracy,val_loss,val_accuracy\n",
      "500/500 [==============================] - 20s 41ms/step - loss: 0.0622 - accuracy: 0.9800 - val_loss: 0.4555 - val_accuracy: 0.8810\n",
      "Epoch 14/20\n",
      "500/500 [==============================] - ETA: 0s - loss: 0.0490 - accuracy: 0.9842WARNING:tensorflow:Early stopping conditioned on metric `val_accuray` which is not available. Available metrics are: loss,accuracy,val_loss,val_accuracy\n",
      "500/500 [==============================] - 20s 41ms/step - loss: 0.0490 - accuracy: 0.9842 - val_loss: 0.4313 - val_accuracy: 0.8885\n",
      "Epoch 15/20\n",
      "499/500 [============================>.] - ETA: 0s - loss: 0.0426 - accuracy: 0.9865WARNING:tensorflow:Early stopping conditioned on metric `val_accuray` which is not available. Available metrics are: loss,accuracy,val_loss,val_accuracy\n",
      "500/500 [==============================] - 20s 40ms/step - loss: 0.0426 - accuracy: 0.9865 - val_loss: 0.4914 - val_accuracy: 0.8890\n",
      "Epoch 16/20\n",
      "500/500 [==============================] - ETA: 0s - loss: 0.0418 - accuracy: 0.9861WARNING:tensorflow:Early stopping conditioned on metric `val_accuray` which is not available. Available metrics are: loss,accuracy,val_loss,val_accuracy\n",
      "500/500 [==============================] - 20s 41ms/step - loss: 0.0418 - accuracy: 0.9861 - val_loss: 0.5560 - val_accuracy: 0.8725\n",
      "Epoch 17/20\n",
      "499/500 [============================>.] - ETA: 0s - loss: 0.0402 - accuracy: 0.9868WARNING:tensorflow:Early stopping conditioned on metric `val_accuray` which is not available. Available metrics are: loss,accuracy,val_loss,val_accuracy\n",
      "500/500 [==============================] - 21s 41ms/step - loss: 0.0401 - accuracy: 0.9868 - val_loss: 0.4895 - val_accuracy: 0.8875\n",
      "Epoch 18/20\n",
      "500/500 [==============================] - ETA: 0s - loss: 0.0365 - accuracy: 0.9881WARNING:tensorflow:Early stopping conditioned on metric `val_accuray` which is not available. Available metrics are: loss,accuracy,val_loss,val_accuracy\n",
      "500/500 [==============================] - 22s 44ms/step - loss: 0.0365 - accuracy: 0.9881 - val_loss: 0.4608 - val_accuracy: 0.8860\n",
      "Epoch 19/20\n",
      "499/500 [============================>.] - ETA: 0s - loss: 0.0373 - accuracy: 0.9879WARNING:tensorflow:Early stopping conditioned on metric `val_accuray` which is not available. Available metrics are: loss,accuracy,val_loss,val_accuracy\n",
      "500/500 [==============================] - 25s 50ms/step - loss: 0.0373 - accuracy: 0.9878 - val_loss: 0.4926 - val_accuracy: 0.8870\n",
      "Epoch 20/20\n",
      "499/500 [============================>.] - ETA: 0s - loss: 0.0272 - accuracy: 0.9904WARNING:tensorflow:Early stopping conditioned on metric `val_accuray` which is not available. Available metrics are: loss,accuracy,val_loss,val_accuracy\n",
      "500/500 [==============================] - 22s 45ms/step - loss: 0.0271 - accuracy: 0.9904 - val_loss: 0.4621 - val_accuracy: 0.8965\n"
     ]
    }
   ],
   "source": [
    "h = model.fit(\n",
    "    padded_train_seq, train_labels,\n",
    "    validation_data=(val_seq, val_labels),\n",
    "    epochs = 20,\n",
    "    callbacks = [\n",
    "                 tf.keras.callbacks.EarlyStopping(monitor='val_accuray', patience=2)\n",
    "    ]\n",
    ")"
   ]
  },
  {
   "cell_type": "markdown",
   "id": "fb8353f9",
   "metadata": {},
   "source": [
    "## Evaluating the Model\n",
    "1. Visualizing training history\n",
    "2. Prepraing a test set\n",
    "3. A look at individual predictions on the test set\n",
    "4. A look at all the predictions on the test set"
   ]
  },
  {
   "cell_type": "code",
   "execution_count": 115,
   "id": "45d03013",
   "metadata": {},
   "outputs": [
    {
     "data": {
      "image/png": "[encoded data removed]",
      "text/plain": [
       "<Figure size 1600x600 with 2 Axes>"
      ]
     },
     "metadata": {},
     "output_type": "display_data"
    }
   ],
   "source": [
    "show_history(h)"
   ]
  },
  {
   "cell_type": "code",
   "execution_count": 116,
   "id": "0862374a",
   "metadata": {},
   "outputs": [],
   "source": [
    "test = pd.read_csv(r\"D:\\emotion_dataset\\archive (1)\\test.txt\",header=None,sep=';',names=['tweets','labels'])"
   ]
  },
  {
   "cell_type": "code",
   "execution_count": 117,
   "id": "b3d2dfeb",
   "metadata": {},
   "outputs": [],
   "source": [
    "test_seq = get_sequences(tokenizer,test['tweets'])\n",
    "test_labels = names_to_ids(test['labels'])"
   ]
  },
  {
   "cell_type": "code",
   "execution_count": 118,
   "id": "1a9d704c",
   "metadata": {},
   "outputs": [
    {
     "name": "stdout",
     "output_type": "stream",
     "text": [
      "63/63 [==============================] - 1s 10ms/step - loss: 0.4847 - accuracy: 0.8885\n"
     ]
    }
   ],
   "source": [
    "_ = model.evaluate(test_seq,test_labels)"
   ]
  },
  {
   "cell_type": "code",
   "execution_count": 128,
   "id": "b3de1ddc",
   "metadata": {},
   "outputs": [
    {
     "name": "stdout",
     "output_type": "stream",
     "text": [
      "Sentence: i feel fine now even though ive just burned the dinner oops\n",
      "Emotion: joy\n",
      "1/1 [==============================] - 0s 25ms/step\n",
      "Predicted Emotion: joy\n"
     ]
    }
   ],
   "source": [
    "i = random.randint(0, len(test_labels)-1)\n",
    "\n",
    "print('Sentence:',test['tweets'][i])\n",
    "print('Emotion:', test['labels'][i])\n",
    "\n",
    "p = model.predict(np.expand_dims(test_seq[i],axis=0))[0]\n",
    "pred_class = index_to_class[np.argmax(p).astype('uint8')]\n",
    "\n",
    "print('Predicted Emotion:', pred_class)"
   ]
  },
  {
   "cell_type": "code",
   "execution_count": null,
   "id": "37676b43",
   "metadata": {},
   "outputs": [],
   "source": []
  }
 ],
 "metadata": {
  "kernelspec": {
   "display_name": "Python 3 (ipykernel)",
   "language": "python",
   "name": "python3"
  },
  "language_info": {
   "codemirror_mode": {
    "name": "ipython",
    "version": 3
   },
   "file_extension": ".py",
   "mimetype": "text/x-python",
   "name": "python",
   "nbconvert_exporter": "python",
   "pygments_lexer": "ipython3",
   "version": "3.10.11"
  }
 },
 "nbformat": 4,
 "nbformat_minor": 5
}
